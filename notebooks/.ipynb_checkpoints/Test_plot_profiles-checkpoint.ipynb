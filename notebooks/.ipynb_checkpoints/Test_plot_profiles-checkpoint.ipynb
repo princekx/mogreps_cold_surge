{
 "cells": [
  {
   "cell_type": "code",
   "execution_count": null,
   "metadata": {},
   "outputs": [],
   "source": [
    "import iris\n",
    "import numpy as np\n",
    "import matplotlib.pyplot as plt\n",
    "import matplotlib.colors as colors\n",
    "import iris.quickplot as qplt\n",
    "import iris.plot as iplt\n",
    "import itertools\n",
    "import datetime\n",
    "import glob\n",
    "import os, sys\n",
    "import cartopy.crs as ccrs\n",
    "%matplotlib"
   ]
  },
  {
   "cell_type": "code",
   "execution_count": null,
   "metadata": {},
   "outputs": [],
   "source": [
    "forecast_date_time = datetime.datetime(2020, 11, 1, 12)\n",
    "str_year, str_month, str_day, str_hour = str(forecast_date_time.year), \\\n",
    "                                             str('%02d' % forecast_date_time.month), \\\n",
    "                                             str('%02d' % forecast_date_time.day), \\\n",
    "                                             str('%02d' % forecast_date_time.hour)\n",
    "\n",
    "date_label = '%s%s%s_%sZ' % (str_year, str_month, str_day, str_hour)"
   ]
  },
  {
   "cell_type": "code",
   "execution_count": 41,
   "metadata": {},
   "outputs": [],
   "source": [
    "#out_data_dir = os.path.join(data_paths.dirs('mog_forecast_out_dir'), str_year, str_month, str_day)\n",
    "out_data_dir = os.path.join('/scratch/hadpx/cold_surge_monitoring/mogreps/processed_data', str_year, str_month, str_day, str_hour)"
   ]
  },
  {
   "cell_type": "code",
   "execution_count": 42,
   "metadata": {},
   "outputs": [],
   "source": [
    "# Read the processed and combined data\n",
    "precip_file_name = os.path.join(out_data_dir, 'MOG_PRECIP_24H_%s.nc' % (date_label))\n",
    "precip_cube = iris.load_cube(precip_file_name)\n",
    "\n",
    "u850_file_name = os.path.join(out_data_dir, 'MOG_x_wind_850_24H_%s.nc' % (date_label))\n",
    "u850_cube = iris.load_cube(u850_file_name)\n",
    "\n",
    "v850_file_name = os.path.join(out_data_dir, 'MOG_y_wind_850_24H_%s.nc' % (date_label))\n",
    "v850_cube = iris.load_cube(v850_file_name)"
   ]
  },
  {
   "cell_type": "code",
   "execution_count": 43,
   "metadata": {},
   "outputs": [],
   "source": [
    "speed_cube = (u850_cube**2 + v850_cube**2)**0.5"
   ]
  },
  {
   "cell_type": "code",
   "execution_count": null,
   "metadata": {},
   "outputs": [],
   "source": []
  },
  {
   "cell_type": "code",
   "execution_count": 45,
   "metadata": {},
   "outputs": [
    {
     "name": "stderr",
     "output_type": "stream",
     "text": [
      "/opt/scitools/environments/default/2020_10_12/lib/python3.6/site-packages/iris/coords.py:1410: UserWarning: Collapsing a non-contiguous coordinate. Metadata may not be fully descriptive for 'realization'.\n",
      "  warnings.warn(msg.format(self.name()))\n",
      "/opt/scitools/environments/default/2020_10_12/lib/python3.6/site-packages/iris/coords.py:1406: UserWarning: Collapsing a multi-dimensional coordinate. Metadata may not be fully descriptive for 'forecast_reference_time'.\n",
      "  warnings.warn(msg.format(self.name()))\n",
      "/opt/scitools/environments/default/2020_10_12/lib/python3.6/site-packages/iris/coords.py:1406: UserWarning: Collapsing a multi-dimensional coordinate. Metadata may not be fully descriptive for 'time'.\n",
      "  warnings.warn(msg.format(self.name()))\n",
      "/opt/scitools/environments/default/2020_10_12/lib/python3.6/site-packages/iris/coords.py:1410: UserWarning: Collapsing a non-contiguous coordinate. Metadata may not be fully descriptive for 'realization'.\n",
      "  warnings.warn(msg.format(self.name()))\n",
      "/opt/scitools/environments/default/2020_10_12/lib/python3.6/site-packages/iris/coords.py:1406: UserWarning: Collapsing a multi-dimensional coordinate. Metadata may not be fully descriptive for 'forecast_reference_time'.\n",
      "  warnings.warn(msg.format(self.name()))\n",
      "/opt/scitools/environments/default/2020_10_12/lib/python3.6/site-packages/iris/coords.py:1406: UserWarning: Collapsing a multi-dimensional coordinate. Metadata may not be fully descriptive for 'time'.\n",
      "  warnings.warn(msg.format(self.name()))\n",
      "/opt/scitools/environments/default/2020_10_12/lib/python3.6/site-packages/iris/coords.py:1410: UserWarning: Collapsing a non-contiguous coordinate. Metadata may not be fully descriptive for 'realization'.\n",
      "  warnings.warn(msg.format(self.name()))\n",
      "/opt/scitools/environments/default/2020_10_12/lib/python3.6/site-packages/iris/coords.py:1406: UserWarning: Collapsing a multi-dimensional coordinate. Metadata may not be fully descriptive for 'forecast_reference_time'.\n",
      "  warnings.warn(msg.format(self.name()))\n",
      "/opt/scitools/environments/default/2020_10_12/lib/python3.6/site-packages/iris/coords.py:1406: UserWarning: Collapsing a multi-dimensional coordinate. Metadata may not be fully descriptive for 'time'.\n",
      "  warnings.warn(msg.format(self.name()))\n",
      "/opt/scitools/environments/default/2020_10_12/lib/python3.6/site-packages/iris/coords.py:1410: UserWarning: Collapsing a non-contiguous coordinate. Metadata may not be fully descriptive for 'realization'.\n",
      "  warnings.warn(msg.format(self.name()))\n",
      "/opt/scitools/environments/default/2020_10_12/lib/python3.6/site-packages/iris/coords.py:1406: UserWarning: Collapsing a multi-dimensional coordinate. Metadata may not be fully descriptive for 'forecast_reference_time'.\n",
      "  warnings.warn(msg.format(self.name()))\n",
      "/opt/scitools/environments/default/2020_10_12/lib/python3.6/site-packages/iris/coords.py:1406: UserWarning: Collapsing a multi-dimensional coordinate. Metadata may not be fully descriptive for 'time'.\n",
      "  warnings.warn(msg.format(self.name()))\n"
     ]
    }
   ],
   "source": [
    "precip_ens_mean = precip_cube.collapsed('realization', iris.analysis.MEAN)\n",
    "u850_ens_mean = u850_cube.collapsed('realization', iris.analysis.MEAN)\n",
    "v850_ens_mean = v850_cube.collapsed('realization', iris.analysis.MEAN)\n",
    "speed_ens_mean = speed_cube.collapsed('realization', iris.analysis.MEAN)"
   ]
  },
  {
   "cell_type": "code",
   "execution_count": 8,
   "metadata": {},
   "outputs": [
    {
     "data": {
      "text/plain": [
       "<matplotlib.contour.QuadContourSet at 0x7fa9ca718898>"
      ]
     },
     "execution_count": 8,
     "metadata": {},
     "output_type": "execute_result"
    }
   ],
   "source": [
    "qplt.contourf(speed_ens_mean[0])"
   ]
  },
  {
   "cell_type": "code",
   "execution_count": 13,
   "metadata": {},
   "outputs": [],
   "source": [
    "xlon = u850_cube.coord('longitude').points\n",
    "ylat = u850_cube.coord('latitude').points\n",
    "X, Y = np.meshgrid(xlon, ylat)"
   ]
  },
  {
   "cell_type": "code",
   "execution_count": 14,
   "metadata": {},
   "outputs": [
    {
     "data": {
      "text/plain": [
       "((214, 178), (8, 36, 214, 178), (8, 36, 214, 178))"
      ]
     },
     "execution_count": 14,
     "metadata": {},
     "output_type": "execute_result"
    }
   ],
   "source": [
    "X.shape, u850_cube.shape, v850_cube.shape"
   ]
  },
  {
   "cell_type": "code",
   "execution_count": 9,
   "metadata": {},
   "outputs": [
    {
     "ename": "NameError",
     "evalue": "name 'X' is not defined",
     "output_type": "error",
     "traceback": [
      "\u001b[0;31m---------------------------------------------------------------------------\u001b[0m",
      "\u001b[0;31mNameError\u001b[0m                                 Traceback (most recent call last)",
      "\u001b[0;32m<ipython-input-9-561cf515fcb0>\u001b[0m in \u001b[0;36m<module>\u001b[0;34m\u001b[0m\n\u001b[1;32m     26\u001b[0m \u001b[0;34m\u001b[0m\u001b[0m\n\u001b[1;32m     27\u001b[0m \u001b[0;31m# overplot wind as streamlines\u001b[0m\u001b[0;34m\u001b[0m\u001b[0;34m\u001b[0m\u001b[0;34m\u001b[0m\u001b[0m\n\u001b[0;32m---> 28\u001b[0;31m cl = plt.gca().streamplot(X, Y, u850_ens_mean[t].data, v850_ens_mean[t].data, \n\u001b[0m\u001b[1;32m     29\u001b[0m                           \u001b[0mdensity\u001b[0m\u001b[0;34m=\u001b[0m\u001b[0;34m(\u001b[0m\u001b[0;36m2.\u001b[0m\u001b[0;34m,\u001b[0m \u001b[0;36m1.5\u001b[0m\u001b[0;34m)\u001b[0m\u001b[0;34m,\u001b[0m \u001b[0mmaxlength\u001b[0m\u001b[0;34m=\u001b[0m\u001b[0;36m1\u001b[0m\u001b[0;34m,\u001b[0m \u001b[0mnorm\u001b[0m\u001b[0;34m=\u001b[0m\u001b[0mnorm\u001b[0m\u001b[0;34m,\u001b[0m\u001b[0;34m\u001b[0m\u001b[0;34m\u001b[0m\u001b[0m\n\u001b[1;32m     30\u001b[0m                           \u001b[0mcmap\u001b[0m\u001b[0;34m=\u001b[0m\u001b[0;34m'GnBu'\u001b[0m\u001b[0;34m,\u001b[0m\u001b[0;34m\u001b[0m\u001b[0;34m\u001b[0m\u001b[0m\n",
      "\u001b[0;31mNameError\u001b[0m: name 'X' is not defined"
     ]
    }
   ],
   "source": [
    "t = 2 # for t in times:\n",
    "\n",
    "valid_date = forecast_date_time + datetime.timedelta(days=t)\n",
    "valid_date_label = '%s/%s/%s' % (valid_date.year, str('%02d' % valid_date.month), str('%02d' % valid_date.day))\n",
    "        \n",
    "lw = 3 * speed_ens_mean[t].data / 20.0 #speed.data.max()\n",
    "\n",
    "fig = plt.figure(figsize=(10, 10), dpi=100)\n",
    "\n",
    "# contour plot of precip\n",
    "clevels = [1, 5, 10, 15, 20, 25, 30, 35, 40]\n",
    "cf = iplt.contourf(precip_ens_mean[t], levels=clevels, cmap='gray_r', alpha=0.65, extend='max')\n",
    "axc = plt.gca()\n",
    "axc.coastlines('50m', alpha=0.5)\n",
    "axc.set_ylim([-10, 20])\n",
    "axc.set_xlim([90, 130])\n",
    "axc.stock_img()\n",
    "axc.set_yticks([-10, 0, 10, 20], crs=ccrs.PlateCarree())\n",
    "axc.set_xticks([90, 100, 110, 120, 130], crs=ccrs.PlateCarree())\n",
    "#axc.gridlines()\n",
    "\n",
    "plt.title('Ensemble mean PREC, 850hPa winds \\n Forecast start: %s, Lead: T+%s h \\n Valid at %s' % (date_label, (t * 24), valid_date_label))\n",
    "\n",
    "bounds = np.arange(2,22,2)\n",
    "norm = colors.BoundaryNorm(boundaries=bounds, ncolors=256)\n",
    "    \n",
    "# overplot wind as streamlines\n",
    "cl = plt.gca().streamplot(X, Y, u850_ens_mean[t].data, v850_ens_mean[t].data, \n",
    "                          density=(2., 1.5), maxlength=1, norm=norm,\n",
    "                          cmap='GnBu',\n",
    "                          color=speed_ens_mean[t].data, linewidth=lw)\n",
    "\n",
    "# these are matplotlib.patch.Patch properties\n",
    "props = dict(boxstyle='round', facecolor='wheat', alpha=0.5)\n",
    "\n",
    "font = {'color':  'red', 'weight': 'bold', 'size': 12}\n",
    "axc.text(91, 19, \"COLD SURGE: {:.1f}%\".format(cs_prob[t]*100.), fontdict=font, verticalalignment='top', bbox=props, alpha=0.7)\n",
    "\n",
    "font = {'color':  'red', 'weight': 'bold', 'size': 12}\n",
    "axc.text(91, 17.5, \"CROSS-EQUATORIAL SURGE: {:.1f}%\".format(ces_prob[t]*100.), fontdict=font, verticalalignment='top', bbox=props, alpha=0.7)\n",
    "        \n",
    "colorbar_axes = plt.gcf().add_axes([0.2, 0.12, 0.6, 0.025])\n",
    "colorbar = plt.colorbar(cf, colorbar_axes, orientation='horizontal', label='Precip (mm day$^{-1}$)')\n",
    "\n",
    "colorbar_axes = plt.gcf().add_axes([0.92, 0.25, 0.025, 0.5])\n",
    "colorbar = plt.colorbar(cl.lines, colorbar_axes, orientation='vertical', label='Wind Speed (m s$^{-1}$)')"
   ]
  },
  {
   "cell_type": "code",
   "execution_count": 12,
   "metadata": {},
   "outputs": [
    {
     "ename": "NameError",
     "evalue": "name 'cs_prob' is not defined",
     "output_type": "error",
     "traceback": [
      "\u001b[0;31m---------------------------------------------------------------------------\u001b[0m",
      "\u001b[0;31mNameError\u001b[0m                                 Traceback (most recent call last)",
      "\u001b[0;32m<ipython-input-12-47cfee1a36d4>\u001b[0m in \u001b[0;36m<module>\u001b[0;34m\u001b[0m\n\u001b[0;32m----> 1\u001b[0;31m \u001b[0mprint\u001b[0m\u001b[0;34m(\u001b[0m\u001b[0;34m\"COLD SURGE: {:.1f}%\"\u001b[0m\u001b[0;34m.\u001b[0m\u001b[0mformat\u001b[0m\u001b[0;34m(\u001b[0m\u001b[0mcs_prob\u001b[0m\u001b[0;34m[\u001b[0m\u001b[0mt\u001b[0m\u001b[0;34m]\u001b[0m\u001b[0;34m*\u001b[0m\u001b[0;36m100.\u001b[0m\u001b[0;34m)\u001b[0m\u001b[0;34m)\u001b[0m\u001b[0;34m\u001b[0m\u001b[0;34m\u001b[0m\u001b[0m\n\u001b[0m",
      "\u001b[0;31mNameError\u001b[0m: name 'cs_prob' is not defined"
     ]
    }
   ],
   "source": [
    "print(\"COLD SURGE: {:.1f}%\".format(cs_prob[t]*100.))"
   ]
  },
  {
   "cell_type": "code",
   "execution_count": 188,
   "metadata": {},
   "outputs": [
    {
     "name": "stdout",
     "output_type": "stream",
     "text": [
      "2021-01-01 12:00:00\n",
      "2021-01-02 12:00:00\n",
      "2021-01-03 12:00:00\n",
      "2021-01-04 12:00:00\n",
      "2021-01-05 12:00:00\n",
      "2021-01-06 12:00:00\n",
      "2021-01-07 12:00:00\n",
      "2021-01-08 12:00:00\n"
     ]
    }
   ],
   "source": [
    "for t in np.arange(ntimes):\n",
    "    valid_date = date + datetime.timedelta(days=int(t))\n",
    "    print(valid_date)"
   ]
  },
  {
   "cell_type": "code",
   "execution_count": 72,
   "metadata": {},
   "outputs": [
    {
     "name": "stderr",
     "output_type": "stream",
     "text": [
      "/opt/scitools/environments/default/2020_10_12/lib/python3.6/site-packages/iris/coords.py:1410: UserWarning: Collapsing a non-contiguous coordinate. Metadata may not be fully descriptive for 'realization'.\n",
      "  warnings.warn(msg.format(self.name()))\n",
      "/opt/scitools/environments/default/2020_10_12/lib/python3.6/site-packages/iris/coords.py:1406: UserWarning: Collapsing a multi-dimensional coordinate. Metadata may not be fully descriptive for 'forecast_reference_time'.\n",
      "  warnings.warn(msg.format(self.name()))\n",
      "/opt/scitools/environments/default/2020_10_12/lib/python3.6/site-packages/iris/coords.py:1406: UserWarning: Collapsing a multi-dimensional coordinate. Metadata may not be fully descriptive for 'time'.\n",
      "  warnings.warn(msg.format(self.name()))\n"
     ]
    }
   ],
   "source": [
    "result = precip_cube.collapsed('realization', iris.analysis.PERCENTILE, percent=[10])\n",
    "qplt.contourf(result[2])\n",
    "plt.gca().coastlines()"
   ]
  },
  {
   "cell_type": "code",
   "execution_count": 74,
   "metadata": {},
   "outputs": [
    {
     "name": "stderr",
     "output_type": "stream",
     "text": [
      "/opt/scitools/environments/default/2020_10_12/lib/python3.6/site-packages/iris/coords.py:1410: UserWarning: Collapsing a non-contiguous coordinate. Metadata may not be fully descriptive for 'realization'.\n",
      "  warnings.warn(msg.format(self.name()))\n",
      "/opt/scitools/environments/default/2020_10_12/lib/python3.6/site-packages/iris/coords.py:1406: UserWarning: Collapsing a multi-dimensional coordinate. Metadata may not be fully descriptive for 'forecast_reference_time'.\n",
      "  warnings.warn(msg.format(self.name()))\n",
      "/opt/scitools/environments/default/2020_10_12/lib/python3.6/site-packages/iris/coords.py:1406: UserWarning: Collapsing a multi-dimensional coordinate. Metadata may not be fully descriptive for 'time'.\n",
      "  warnings.warn(msg.format(self.name()))\n"
     ]
    },
    {
     "data": {
      "text/plain": [
       "<cartopy.mpl.feature_artist.FeatureArtist at 0x7fe033ac69e8>"
      ]
     },
     "execution_count": 74,
     "metadata": {},
     "output_type": "execute_result"
    }
   ],
   "source": [
    "result = speed_cube.collapsed('realization', iris.analysis.PERCENTILE, percent=[90])\n",
    "qplt.contourf(result[2])\n",
    "plt.gca().coastlines()"
   ]
  },
  {
   "cell_type": "code",
   "execution_count": 36,
   "metadata": {},
   "outputs": [
    {
     "name": "stderr",
     "output_type": "stream",
     "text": [
      "/opt/scitools/environments/default/2020_10_12/lib/python3.6/site-packages/iris/coords.py:1410: UserWarning: Collapsing a non-contiguous coordinate. Metadata may not be fully descriptive for 'realization'.\n",
      "  warnings.warn(msg.format(self.name()))\n",
      "/opt/scitools/environments/default/2020_10_12/lib/python3.6/site-packages/iris/coords.py:1406: UserWarning: Collapsing a multi-dimensional coordinate. Metadata may not be fully descriptive for 'forecast_reference_time'.\n",
      "  warnings.warn(msg.format(self.name()))\n",
      "/opt/scitools/environments/default/2020_10_12/lib/python3.6/site-packages/iris/coords.py:1406: UserWarning: Collapsing a multi-dimensional coordinate. Metadata may not be fully descriptive for 'time'.\n",
      "  warnings.warn(msg.format(self.name()))\n",
      "/opt/scitools/environments/default/2020_10_12/lib/python3.6/site-packages/iris/coords.py:1410: UserWarning: Collapsing a non-contiguous coordinate. Metadata may not be fully descriptive for 'realization'.\n",
      "  warnings.warn(msg.format(self.name()))\n",
      "/opt/scitools/environments/default/2020_10_12/lib/python3.6/site-packages/iris/coords.py:1406: UserWarning: Collapsing a multi-dimensional coordinate. Metadata may not be fully descriptive for 'forecast_reference_time'.\n",
      "  warnings.warn(msg.format(self.name()))\n",
      "/opt/scitools/environments/default/2020_10_12/lib/python3.6/site-packages/iris/coords.py:1406: UserWarning: Collapsing a multi-dimensional coordinate. Metadata may not be fully descriptive for 'time'.\n",
      "  warnings.warn(msg.format(self.name()))\n"
     ]
    }
   ],
   "source": [
    "t = 1\n",
    "precip_threshold = 50\n",
    "speed_threshold = 10\n",
    "precip_prob = precip_cube.collapsed('realization', iris.analysis.PROPORTION, \n",
    "                               function=lambda values: values > precip_threshold)\n",
    "\n",
    "speed_prob = speed_cube.collapsed('realization', iris.analysis.PROPORTION, \n",
    "                               function=lambda values: values > speed_threshold)\n",
    "\n",
    "fig = plt.figure(figsize=(10, 10), dpi=100)\n",
    "\n",
    "try:\n",
    "    # contour plot of precip\n",
    "    clevels = np.arange(0.1, 1.1, 0.1)\n",
    "    cf = iplt.contourf(precip_prob[t], levels=clevels, cmap='gray_r', alpha=0.65, extend='max')\n",
    "    axc = plt.gca()\n",
    "except:\n",
    "    axc = plt.subplot(111, projection=ccrs.PlateCarree())\n",
    "    \n",
    "axc.coastlines('50m', alpha=0.5)\n",
    "axc.set_ylim([-10, 20])\n",
    "axc.set_xlim([90, 130])\n",
    "axc.stock_img()\n",
    "axc.set_yticks([-10, 0, 10, 20], crs=ccrs.PlateCarree())\n",
    "axc.set_xticks([90, 100, 110, 120, 130], crs=ccrs.PlateCarree())\n",
    "\n",
    "'''\n",
    "axc = fig.add_subplot(1, 1, 1, projection=ccrs.PlateCarree())\n",
    "#axc.set_extent([90, 130, -10, 20], crs=ccrs.PlateCarree())\n",
    "axc.coastlines('50m', alpha=0.5)\n",
    "axc.set_ylim([-10, 20])\n",
    "axc.set_xlim([90, 130])\n",
    "axc.set_yticks([-10, 0, 10, 20], crs=ccrs.PlateCarree())\n",
    "axc.set_xticks([90, 100, 110, 120, 130], crs=ccrs.PlateCarree())\n",
    "axc.stock_img()\n",
    "'''\n",
    "#axc.gridlines()\n",
    "\n",
    "clevels = np.arange(0.5, 1.01, 0.1)\n",
    "cfc = iplt.contour(speed_prob[t], levels=clevels, linewidths=clevels*3, extend='max', alpha=0.7)\n",
    "#plt.gca().coastlines()\n",
    "\n",
    "title = 'Ensemble probability PREC, 850hPa winds \\n Forecast start: %s, Lead: T+%s h \\n Valid at %s' % (date_label, (t * 24), valid_date_label)\n",
    "#title += '\\n Precip. prob (p$\\geq$ %s mm day$^{-1}$)' %precip_threshold\n",
    "#title += '\\n Wind speed. prob (p$\\geq$ %s m s$^{-1}$)' %speed_threshold\n",
    "\n",
    "plt.title(title)\n",
    "colorbar_axes = plt.gcf().add_axes([0.2, 0.12, 0.6, 0.025])\n",
    "colorbar = plt.colorbar(cf, colorbar_axes, orientation='horizontal', label='Precip. prob (p$\\geq$ %s mm day$^{-1}$)' %precip_threshold)\n",
    "\n",
    "colorbar_axes = plt.gcf().add_axes([0.91, 0.2, 0.025, 0.2])\n",
    "cb2 = plt.colorbar(cfc, colorbar_axes, orientation='vertical', label='Wind speed. prob (p$\\geq$ %s m s$^{-1}$)' %speed_threshold)\n",
    "cb2.outline.set_edgecolor('white')\n",
    "# set colorbar ticklabels\n",
    "cb2.ax.tick_params(color=\"white\")"
   ]
  },
  {
   "cell_type": "code",
   "execution_count": 32,
   "metadata": {},
   "outputs": [
    {
     "name": "stderr",
     "output_type": "stream",
     "text": [
      "/opt/scitools/environments/default/2020_10_12/lib/python3.6/site-packages/iris/coords.py:1410: UserWarning: Collapsing a non-contiguous coordinate. Metadata may not be fully descriptive for 'realization'.\n",
      "  warnings.warn(msg.format(self.name()))\n",
      "/opt/scitools/environments/default/2020_10_12/lib/python3.6/site-packages/iris/coords.py:1406: UserWarning: Collapsing a multi-dimensional coordinate. Metadata may not be fully descriptive for 'forecast_reference_time'.\n",
      "  warnings.warn(msg.format(self.name()))\n",
      "/opt/scitools/environments/default/2020_10_12/lib/python3.6/site-packages/iris/coords.py:1406: UserWarning: Collapsing a multi-dimensional coordinate. Metadata may not be fully descriptive for 'time'.\n",
      "  warnings.warn(msg.format(self.name()))\n"
     ]
    }
   ],
   "source": [
    "precip_prob = precip_cube.collapsed('realization', iris.analysis.PROPORTION, \n",
    "                               function=lambda values: values > 2000)"
   ]
  },
  {
   "cell_type": "code",
   "execution_count": 36,
   "metadata": {},
   "outputs": [
    {
     "name": "stderr",
     "output_type": "stream",
     "text": [
      "/opt/scitools/environments/default/2020_10_12/lib/python3.6/site-packages/cartopy/mpl/geoaxes.py:1366: UserWarning: No contour levels were found within the data range.\n",
      "  result = matplotlib.axes.Axes.contour(self, *args, **kwargs)\n"
     ]
    },
    {
     "data": {
      "text/plain": [
       "<matplotlib.contour.QuadContourSet at 0x7f62269ba2b0>"
      ]
     },
     "execution_count": 36,
     "metadata": {},
     "output_type": "execute_result"
    }
   ],
   "source": [
    "iplt.contourf(precip_prob[3])"
   ]
  },
  {
   "cell_type": "code",
   "execution_count": 39,
   "metadata": {},
   "outputs": [
    {
     "data": {
      "text/plain": [
       "<cartopy.mpl.feature_artist.FeatureArtist at 0x7fa9954cb208>"
      ]
     },
     "execution_count": 39,
     "metadata": {},
     "output_type": "execute_result"
    }
   ],
   "source": [
    "#mask = u850_ens_mean[0].data.copy()\n",
    "dummy = speed_ens_mean.copy()\n",
    "mask1 = (u850_ens_mean.data >= 0.) #& \n",
    "mask2 = (v850_ens_mean.data >= 0.) #& \n",
    "mask3 = (speed_ens_mean.data >= 5.)\n",
    "#mask = (speed_ens_mean.data < 10.)\n",
    "dummy.data = np.ma.array(speed_ens_mean.data, mask=mask1*mask2*mask3)\n",
    "qplt.contourf(dummy[0])\n",
    "plt.gca().coastlines()"
   ]
  },
  {
   "cell_type": "code",
   "execution_count": 228,
   "metadata": {},
   "outputs": [
    {
     "data": {
      "text/plain": [
       "<matplotlib.contour.QuadContourSet at 0x7fdffe5b3198>"
      ]
     },
     "execution_count": 228,
     "metadata": {},
     "output_type": "execute_result"
    }
   ],
   "source": []
  },
  {
   "cell_type": "code",
   "execution_count": 85,
   "metadata": {},
   "outputs": [],
   "source": [
    "for member in range(10):\n",
    "    t = 1\n",
    "    plt.quiver(X[:1,:1], Y[:1,:1], u850_cube[t,member, :1,:1].data, v850_cube[t,member, :1,:1].data, alpha=0.2)"
   ]
  },
  {
   "cell_type": "code",
   "execution_count": 83,
   "metadata": {},
   "outputs": [
    {
     "data": {
      "text/html": [
       "\n",
       "<style>\n",
       "  a.iris {\n",
       "      text-decoration: none !important;\n",
       "  }\n",
       "  table.iris {\n",
       "      white-space: pre;\n",
       "      border: 1px solid;\n",
       "      border-color: #9c9c9c;\n",
       "      font-family: monaco, monospace;\n",
       "  }\n",
       "  th.iris {\n",
       "      background: #303f3f;\n",
       "      color: #e0e0e0;\n",
       "      border-left: 1px solid;\n",
       "      border-color: #9c9c9c;\n",
       "      font-size: 1.05em;\n",
       "      min-width: 50px;\n",
       "      max-width: 125px;\n",
       "  }\n",
       "  tr.iris :first-child {\n",
       "      border-right: 1px solid #9c9c9c !important;\n",
       "  }\n",
       "  td.iris-title {\n",
       "      background: #d5dcdf;\n",
       "      border-top: 1px solid #9c9c9c;\n",
       "      font-weight: bold;\n",
       "  }\n",
       "  .iris-word-cell {\n",
       "      text-align: left !important;\n",
       "      white-space: pre;\n",
       "  }\n",
       "  .iris-subheading-cell {\n",
       "      padding-left: 2em !important;\n",
       "  }\n",
       "  .iris-inclusion-cell {\n",
       "      padding-right: 1em !important;\n",
       "  }\n",
       "  .iris-panel-body {\n",
       "      padding-top: 0px;\n",
       "  }\n",
       "  .iris-panel-title {\n",
       "      padding-left: 3em;\n",
       "  }\n",
       "  .iris-panel-title {\n",
       "      margin-top: 7px;\n",
       "  }\n",
       "</style>\n",
       "<table class=\"iris\" id=\"140600794045800\">\n",
       "    <tr class=\"iris\">\n",
       "<th class=\"iris iris-word-cell\">X Wind (m s-1)</th>\n",
       "<th class=\"iris iris-word-cell\">forecast_period</th>\n",
       "<th class=\"iris iris-word-cell\">realization</th>\n",
       "<th class=\"iris iris-word-cell\">latitude</th>\n",
       "<th class=\"iris iris-word-cell\">longitude</th>\n",
       "</tr>\n",
       "    <tr class=\"iris\">\n",
       "<td class=\"iris-word-cell iris-subheading-cell\">Shape</td>\n",
       "<td class=\"iris iris-inclusion-cell\">8</td>\n",
       "<td class=\"iris iris-inclusion-cell\">36</td>\n",
       "<td class=\"iris iris-inclusion-cell\">214</td>\n",
       "<td class=\"iris iris-inclusion-cell\">178</td>\n",
       "</tr>\n",
       "    <tr class=\"iris\">\n",
       "    <td class=\"iris-title iris-word-cell\">Dimension coordinates</td>\n",
       "    <td class=\"iris-title\"></td>\n",
       "    <td class=\"iris-title\"></td>\n",
       "    <td class=\"iris-title\"></td>\n",
       "    <td class=\"iris-title\"></td>\n",
       "</tr>\n",
       "<tr class=\"iris\">\n",
       "    <td class=\"iris-word-cell iris-subheading-cell\">\tforecast_period</td>\n",
       "    <td class=\"iris-inclusion-cell\">x</td>\n",
       "    <td class=\"iris-inclusion-cell\">-</td>\n",
       "    <td class=\"iris-inclusion-cell\">-</td>\n",
       "    <td class=\"iris-inclusion-cell\">-</td>\n",
       "</tr>\n",
       "<tr class=\"iris\">\n",
       "    <td class=\"iris-word-cell iris-subheading-cell\">\trealization</td>\n",
       "    <td class=\"iris-inclusion-cell\">-</td>\n",
       "    <td class=\"iris-inclusion-cell\">x</td>\n",
       "    <td class=\"iris-inclusion-cell\">-</td>\n",
       "    <td class=\"iris-inclusion-cell\">-</td>\n",
       "</tr>\n",
       "<tr class=\"iris\">\n",
       "    <td class=\"iris-word-cell iris-subheading-cell\">\tlatitude</td>\n",
       "    <td class=\"iris-inclusion-cell\">-</td>\n",
       "    <td class=\"iris-inclusion-cell\">-</td>\n",
       "    <td class=\"iris-inclusion-cell\">x</td>\n",
       "    <td class=\"iris-inclusion-cell\">-</td>\n",
       "</tr>\n",
       "<tr class=\"iris\">\n",
       "    <td class=\"iris-word-cell iris-subheading-cell\">\tlongitude</td>\n",
       "    <td class=\"iris-inclusion-cell\">-</td>\n",
       "    <td class=\"iris-inclusion-cell\">-</td>\n",
       "    <td class=\"iris-inclusion-cell\">-</td>\n",
       "    <td class=\"iris-inclusion-cell\">x</td>\n",
       "</tr>\n",
       "<tr class=\"iris\">\n",
       "    <td class=\"iris-title iris-word-cell\">Auxiliary coordinates</td>\n",
       "    <td class=\"iris-title\"></td>\n",
       "    <td class=\"iris-title\"></td>\n",
       "    <td class=\"iris-title\"></td>\n",
       "    <td class=\"iris-title\"></td>\n",
       "</tr>\n",
       "<tr class=\"iris\">\n",
       "    <td class=\"iris-word-cell iris-subheading-cell\">\tforecast_reference_time</td>\n",
       "    <td class=\"iris-inclusion-cell\">x</td>\n",
       "    <td class=\"iris-inclusion-cell\">x</td>\n",
       "    <td class=\"iris-inclusion-cell\">-</td>\n",
       "    <td class=\"iris-inclusion-cell\">-</td>\n",
       "</tr>\n",
       "<tr class=\"iris\">\n",
       "    <td class=\"iris-word-cell iris-subheading-cell\">\ttime</td>\n",
       "    <td class=\"iris-inclusion-cell\">x</td>\n",
       "    <td class=\"iris-inclusion-cell\">x</td>\n",
       "    <td class=\"iris-inclusion-cell\">-</td>\n",
       "    <td class=\"iris-inclusion-cell\">-</td>\n",
       "</tr>\n",
       "<tr class=\"iris\">\n",
       "    <td class=\"iris-title iris-word-cell\">Scalar coordinates</td>\n",
       "    <td class=\"iris-title\"></td>\n",
       "    <td class=\"iris-title\"></td>\n",
       "    <td class=\"iris-title\"></td>\n",
       "    <td class=\"iris-title\"></td>\n",
       "</tr>\n",
       "<tr class=\"iris\">\n",
       "    <td class=\"iris-word-cell iris-subheading-cell\">\tpressure</td>\n",
       "    <td class=\"iris-word-cell\" colspan=\"4\">850.0 hPa</td>\n",
       "</tr>\n",
       "<tr class=\"iris\">\n",
       "    <td class=\"iris-title iris-word-cell\">Attributes</td>\n",
       "    <td class=\"iris-title\"></td>\n",
       "    <td class=\"iris-title\"></td>\n",
       "    <td class=\"iris-title\"></td>\n",
       "    <td class=\"iris-title\"></td>\n",
       "</tr>\n",
       "<tr class=\"iris\">\n",
       "    <td class=\"iris-word-cell iris-subheading-cell\">\tConventions</td>\n",
       "    <td class=\"iris-word-cell\" colspan=\"4\">CF-1.7</td>\n",
       "</tr>\n",
       "<tr class=\"iris\">\n",
       "    <td class=\"iris-word-cell iris-subheading-cell\">\tSTASH</td>\n",
       "    <td class=\"iris-word-cell\" colspan=\"4\">m01s15i201</td>\n",
       "</tr>\n",
       "<tr class=\"iris\">\n",
       "    <td class=\"iris-word-cell iris-subheading-cell\">\tsource</td>\n",
       "    <td class=\"iris-word-cell\" colspan=\"4\">Data from Met Office Unified Model</td>\n",
       "</tr>\n",
       "<tr class=\"iris\">\n",
       "    <td class=\"iris-word-cell iris-subheading-cell\">\tum_version</td>\n",
       "    <td class=\"iris-word-cell\" colspan=\"4\">11.5</td>\n",
       "</tr>\n",
       "</table>\n",
       "        "
      ],
      "text/plain": [
       "<iris 'Cube' of x_wind / (m s-1) (forecast_period: 8; realization: 36; latitude: 214; longitude: 178)>"
      ]
     },
     "execution_count": 83,
     "metadata": {},
     "output_type": "execute_result"
    }
   ],
   "source": [
    "#u850_cube"
   ]
  },
  {
   "cell_type": "code",
   "execution_count": 455,
   "metadata": {},
   "outputs": [],
   "source": [
    "def enumerated_product(*args):\n",
    "    yield from zip(itertools.product(*(range(len(x)) for x in args)), itertools.product(*args))\n",
    "    \n",
    "\n",
    "def cold_surge_probabilities(u850_cube, v850_cube, speed_cube):\n",
    "    # Cold surge identification\n",
    "    chang_box = [107, 115, 5, 10]        # CP Chang's 2nd domain\n",
    "\n",
    "    # Hattori box for cross equatorial surges\n",
    "    hattori_box = [105, 115, -5, 5]\n",
    "\n",
    "    Chang_threshold = 9.0 # 10 # wind speed m/s\n",
    "    Hattori_threshold = -2.0 # m/s meridional wind\n",
    "    \n",
    "    u850_ba = u850_cube.intersection(latitude=(chang_box[2], chang_box[3]), longitude=(chang_box[0], chang_box[1]))\n",
    "    u850_ba = u850_ba.collapsed(('latitude', 'longitude'), iris.analysis.MEAN)\n",
    "\n",
    "    v850_ba = v850_cube.intersection(latitude=(chang_box[2], chang_box[3]), longitude=(chang_box[0], chang_box[1]))\n",
    "    v850_ba = v850_ba.collapsed(('latitude', 'longitude'), iris.analysis.MEAN)\n",
    "\n",
    "    speed_ba = speed_cube.intersection(latitude=(chang_box[2], chang_box[3]), longitude=(chang_box[0], chang_box[1]))\n",
    "    speed_ba = speed_ba.collapsed(('latitude', 'longitude'), iris.analysis.MEAN)\n",
    "    \n",
    "    # Hattori index\n",
    "    v850_hattori = v850_cube.intersection(latitude=(hattori_box[2], hattori_box[3]), longitude=(hattori_box[0], hattori_box[1]))\n",
    "    v850_hattori = v850_hattori.collapsed(('latitude', 'longitude'), iris.analysis.MEAN)\n",
    "\n",
    "    # extract the forecast periods and members from the data\n",
    "    # to create a metrics array\n",
    "    forecast_periods = u850_cube.coord('forecast_period').points\n",
    "    members = u850_cube.coord('realization').points\n",
    "    \n",
    "    # Check for cross-equatorial surges\n",
    "    # CP index\n",
    "    mask1 = u850_ba.data>0.\n",
    "    mask2 = v850_ba.data>0.\n",
    "    mask3 = speed_ba.data<=Chang_threshold\n",
    "    mask4 = v850_ba.data>Hattori_threshold\n",
    "\n",
    "    speed_ma = speed_ba.data.copy()\n",
    "    speed_ma = np.ma.array(speed_ma, mask=mask1)\n",
    "    speed_ma = np.ma.array(speed_ma, mask=mask2)\n",
    "    cs_metric = np.ma.array(speed_ma, mask=mask3)\n",
    "\n",
    "    #CES Hattori index\n",
    "    ces_metric = np.ma.array(v850_ba.data, mask=mask4)\n",
    "    ces_metric = np.ma.array(ces_metric, mask=cs_metric.mask)\n",
    "    \n",
    "    # return the probabilities as fraction\n",
    "    return cs_metric.count(axis=1)/float(len(members)), ces_metric.count(axis=1)/float(len(members))"
   ]
  },
  {
   "cell_type": "code",
   "execution_count": 458,
   "metadata": {},
   "outputs": [
    {
     "name": "stderr",
     "output_type": "stream",
     "text": [
      "/opt/scitools/environments/default/2020_10_12/lib/python3.6/site-packages/iris/cube.py:3218: UserWarning: Collapsing spatial coordinate 'latitude' without weighting\n",
      "  warnings.warn(msg.format(coord.name()))\n",
      "/opt/scitools/environments/default/2020_10_12/lib/python3.6/site-packages/iris/coords.py:1410: UserWarning: Collapsing a non-contiguous coordinate. Metadata may not be fully descriptive for 'latitude'.\n",
      "  warnings.warn(msg.format(self.name()))\n",
      "/opt/scitools/environments/default/2020_10_12/lib/python3.6/site-packages/iris/coords.py:1410: UserWarning: Collapsing a non-contiguous coordinate. Metadata may not be fully descriptive for 'longitude'.\n",
      "  warnings.warn(msg.format(self.name()))\n",
      "/opt/scitools/environments/default/2020_10_12/lib/python3.6/site-packages/iris/cube.py:3218: UserWarning: Collapsing spatial coordinate 'latitude' without weighting\n",
      "  warnings.warn(msg.format(coord.name()))\n",
      "/opt/scitools/environments/default/2020_10_12/lib/python3.6/site-packages/iris/coords.py:1410: UserWarning: Collapsing a non-contiguous coordinate. Metadata may not be fully descriptive for 'latitude'.\n",
      "  warnings.warn(msg.format(self.name()))\n",
      "/opt/scitools/environments/default/2020_10_12/lib/python3.6/site-packages/iris/coords.py:1410: UserWarning: Collapsing a non-contiguous coordinate. Metadata may not be fully descriptive for 'longitude'.\n",
      "  warnings.warn(msg.format(self.name()))\n",
      "/opt/scitools/environments/default/2020_10_12/lib/python3.6/site-packages/iris/cube.py:3218: UserWarning: Collapsing spatial coordinate 'latitude' without weighting\n",
      "  warnings.warn(msg.format(coord.name()))\n",
      "/opt/scitools/environments/default/2020_10_12/lib/python3.6/site-packages/iris/coords.py:1410: UserWarning: Collapsing a non-contiguous coordinate. Metadata may not be fully descriptive for 'latitude'.\n",
      "  warnings.warn(msg.format(self.name()))\n",
      "/opt/scitools/environments/default/2020_10_12/lib/python3.6/site-packages/iris/coords.py:1410: UserWarning: Collapsing a non-contiguous coordinate. Metadata may not be fully descriptive for 'longitude'.\n",
      "  warnings.warn(msg.format(self.name()))\n",
      "/opt/scitools/environments/default/2020_10_12/lib/python3.6/site-packages/iris/cube.py:3218: UserWarning: Collapsing spatial coordinate 'latitude' without weighting\n",
      "  warnings.warn(msg.format(coord.name()))\n",
      "/opt/scitools/environments/default/2020_10_12/lib/python3.6/site-packages/iris/coords.py:1410: UserWarning: Collapsing a non-contiguous coordinate. Metadata may not be fully descriptive for 'latitude'.\n",
      "  warnings.warn(msg.format(self.name()))\n",
      "/opt/scitools/environments/default/2020_10_12/lib/python3.6/site-packages/iris/coords.py:1410: UserWarning: Collapsing a non-contiguous coordinate. Metadata may not be fully descriptive for 'longitude'.\n",
      "  warnings.warn(msg.format(self.name()))\n"
     ]
    }
   ],
   "source": [
    "cs_prob, ces_prob = cold_surge_probabilities(u850_cube, v850_cube, speed_cube)"
   ]
  },
  {
   "cell_type": "code",
   "execution_count": 468,
   "metadata": {},
   "outputs": [
    {
     "data": {
      "text/plain": [
       "[<matplotlib.lines.Line2D at 0x7fdfd69fa048>]"
      ]
     },
     "execution_count": 468,
     "metadata": {},
     "output_type": "execute_result"
    }
   ],
   "source": [
    "plt.plot(cs_prob*100.)\n",
    "plt.plot(ces_prob*100.)"
   ]
  },
  {
   "cell_type": "code",
   "execution_count": 382,
   "metadata": {},
   "outputs": [
    {
     "name": "stderr",
     "output_type": "stream",
     "text": [
      "/opt/scitools/environments/default/2020_10_12/lib/python3.6/site-packages/iris/cube.py:3218: UserWarning: Collapsing spatial coordinate 'latitude' without weighting\n",
      "  warnings.warn(msg.format(coord.name()))\n",
      "/opt/scitools/environments/default/2020_10_12/lib/python3.6/site-packages/iris/coords.py:1410: UserWarning: Collapsing a non-contiguous coordinate. Metadata may not be fully descriptive for 'latitude'.\n",
      "  warnings.warn(msg.format(self.name()))\n",
      "/opt/scitools/environments/default/2020_10_12/lib/python3.6/site-packages/iris/coords.py:1410: UserWarning: Collapsing a non-contiguous coordinate. Metadata may not be fully descriptive for 'longitude'.\n",
      "  warnings.warn(msg.format(self.name()))\n",
      "/opt/scitools/environments/default/2020_10_12/lib/python3.6/site-packages/iris/cube.py:3218: UserWarning: Collapsing spatial coordinate 'latitude' without weighting\n",
      "  warnings.warn(msg.format(coord.name()))\n",
      "/opt/scitools/environments/default/2020_10_12/lib/python3.6/site-packages/iris/coords.py:1410: UserWarning: Collapsing a non-contiguous coordinate. Metadata may not be fully descriptive for 'latitude'.\n",
      "  warnings.warn(msg.format(self.name()))\n",
      "/opt/scitools/environments/default/2020_10_12/lib/python3.6/site-packages/iris/coords.py:1410: UserWarning: Collapsing a non-contiguous coordinate. Metadata may not be fully descriptive for 'longitude'.\n",
      "  warnings.warn(msg.format(self.name()))\n",
      "/opt/scitools/environments/default/2020_10_12/lib/python3.6/site-packages/iris/cube.py:3218: UserWarning: Collapsing spatial coordinate 'latitude' without weighting\n",
      "  warnings.warn(msg.format(coord.name()))\n",
      "/opt/scitools/environments/default/2020_10_12/lib/python3.6/site-packages/iris/coords.py:1410: UserWarning: Collapsing a non-contiguous coordinate. Metadata may not be fully descriptive for 'latitude'.\n",
      "  warnings.warn(msg.format(self.name()))\n",
      "/opt/scitools/environments/default/2020_10_12/lib/python3.6/site-packages/iris/coords.py:1410: UserWarning: Collapsing a non-contiguous coordinate. Metadata may not be fully descriptive for 'longitude'.\n",
      "  warnings.warn(msg.format(self.name()))\n",
      "/opt/scitools/environments/default/2020_10_12/lib/python3.6/site-packages/iris/cube.py:3218: UserWarning: Collapsing spatial coordinate 'latitude' without weighting\n",
      "  warnings.warn(msg.format(coord.name()))\n",
      "/opt/scitools/environments/default/2020_10_12/lib/python3.6/site-packages/iris/coords.py:1410: UserWarning: Collapsing a non-contiguous coordinate. Metadata may not be fully descriptive for 'latitude'.\n",
      "  warnings.warn(msg.format(self.name()))\n",
      "/opt/scitools/environments/default/2020_10_12/lib/python3.6/site-packages/iris/coords.py:1410: UserWarning: Collapsing a non-contiguous coordinate. Metadata may not be fully descriptive for 'longitude'.\n",
      "  warnings.warn(msg.format(self.name()))\n"
     ]
    }
   ],
   "source": [
    "u850_ba = u850_cube.intersection(latitude=(chang_box[2], chang_box[3]), longitude=(chang_box[0], chang_box[1]))\n",
    "u850_ba = u850_ba.collapsed(('latitude', 'longitude'), iris.analysis.MEAN)\n",
    "\n",
    "v850_ba = v850_cube.intersection(latitude=(chang_box[2], chang_box[3]), longitude=(chang_box[0], chang_box[1]))\n",
    "v850_ba = v850_ba.collapsed(('latitude', 'longitude'), iris.analysis.MEAN)\n",
    "\n",
    "speed_ba = speed_cube.intersection(latitude=(chang_box[2], chang_box[3]), longitude=(chang_box[0], chang_box[1]))\n",
    "speed_ba = speed_ba.collapsed(('latitude', 'longitude'), iris.analysis.MEAN)\n",
    "\n",
    "# Hattori index\n",
    "v850_hattori = v850_cube.intersection(latitude=(hattori_box[2], hattori_box[3]), longitude=(hattori_box[0], hattori_box[1]))\n",
    "v850_hattori = v850_hattori.collapsed(('latitude', 'longitude'), iris.analysis.MEAN)"
   ]
  },
  {
   "cell_type": "code",
   "execution_count": 88,
   "metadata": {},
   "outputs": [
    {
     "data": {
      "text/plain": [
       "<cartopy.mpl.feature_artist.FeatureArtist at 0x7fa97acd7278>"
      ]
     },
     "execution_count": 88,
     "metadata": {},
     "output_type": "execute_result"
    }
   ],
   "source": [
    "Chang_threshold = 9.0 # 10 # wind speed m/s\n",
    "Hattori_threshold = -2.0 # m/s meridional wind\n",
    "\n",
    "mask1 = u850_ens_mean.data>0.\n",
    "mask2 = v850_ens_mean.data>0.\n",
    "mask3 = speed_ens_mean.data<=Chang_threshold\n",
    "mask4 = v850_ens_mean.data>Hattori_threshold\n",
    "\n",
    "#np.ma.array(speed_ba.data, mask=)\n",
    "speed_ma = speed_ens_mean.data.copy()\n",
    "\n",
    "speed_ma = np.ma.array(speed_ma, mask=mask1)\n",
    "speed_ma = np.ma.array(speed_ma, mask=mask2)\n",
    "\n",
    "cs_metric = speed_ens_mean.copy()\n",
    "cs_metric.data = np.ma.array(speed_ma, mask=mask3)\n",
    "\n",
    "plt.subplot(111)\n",
    "qplt.pcolormesh(cs_metric[0])\n",
    "plt.gca().coastlines()"
   ]
  },
  {
   "cell_type": "code",
   "execution_count": 92,
   "metadata": {},
   "outputs": [
    {
     "data": {
      "text/plain": [
       "<cartopy.mpl.feature_artist.FeatureArtist at 0x7fa97a92e4a8>"
      ]
     },
     "execution_count": 92,
     "metadata": {},
     "output_type": "execute_result"
    }
   ],
   "source": [
    "#CES\n",
    "speed_ces = speed_ens_mean.data.copy()\n",
    "speed_ces = np.ma.array(speed_ces, mask=mask1)\n",
    "speed_ces = np.ma.array(speed_ces, mask=mask2)\n",
    "#speed_ces = np.ma.array(speed_ces, mask=mask3)\n",
    "speed_ces = np.ma.array(speed_ces, mask=mask4)\n",
    "\n",
    "ces_metric = speed_ens_mean.copy()\n",
    "ces_metric.data = np.ma.array(speed_ces, mask=mask4)\n",
    "#ces_metric.data = np.ma.array(ces_metric.data, mask=cs_metric.data.mask)\n",
    "\n",
    "plt.subplot(111)\n",
    "qplt.pcolormesh(ces_metric[2])\n",
    "plt.gca().coastlines()\n",
    "#plt.colorbar()"
   ]
  },
  {
   "cell_type": "code",
   "execution_count": 51,
   "metadata": {},
   "outputs": [
    {
     "data": {
      "text/plain": [
       "(8, 214, 178)"
      ]
     },
     "execution_count": 51,
     "metadata": {},
     "output_type": "execute_result"
    }
   ],
   "source": [
    "speed_ma.shape"
   ]
  },
  {
   "cell_type": "code",
   "execution_count": 454,
   "metadata": {},
   "outputs": [
    {
     "data": {
      "text/plain": [
       "[<matplotlib.lines.Line2D at 0x7fdfdcb97358>]"
      ]
     },
     "execution_count": 454,
     "metadata": {},
     "output_type": "execute_result"
    }
   ],
   "source": [
    "plt.plot(cs_metric.count(axis=1)/36.)\n",
    "plt.plot(ces_metric.count(axis=1)/36.)"
   ]
  },
  {
   "cell_type": "code",
   "execution_count": 438,
   "metadata": {},
   "outputs": [
    {
     "data": {
      "text/plain": [
       "masked_array(\n",
       "  data=[[13.235036849975586, 14.363262176513672, 14.666253089904785,\n",
       "         13.021166801452637, 13.721320152282715, 14.505474090576172,\n",
       "         13.244720458984375, 13.512650489807129, 14.00009536743164,\n",
       "         13.12613582611084, 12.500503540039062, 12.252906799316406,\n",
       "         12.868427276611328, 13.483177185058594, 13.812342643737793,\n",
       "         14.335355758666992, 14.637784004211426, 13.426780700683594,\n",
       "         13.101456642150879, 12.796355247497559, 11.484163284301758,\n",
       "         14.578365325927734, 13.632922172546387, 14.634739875793457,\n",
       "         13.361306190490723, 13.512377738952637, 13.58327865600586,\n",
       "         14.964446067810059, 13.053930282592773, 12.60180377960205,\n",
       "         13.359545707702637, 14.29128646850586, 13.702561378479004,\n",
       "         14.877312660217285, 13.386419296264648, 13.491727828979492],\n",
       "        [11.847515106201172, 11.118597030639648, 12.604354858398438,\n",
       "         12.100317001342773, 12.882773399353027, 13.888492584228516,\n",
       "         13.276514053344727, 11.391932487487793, 13.453238487243652,\n",
       "         12.695353507995605, 11.189796447753906, 11.18249797821045,\n",
       "         12.768820762634277, 12.865850448608398, 11.247896194458008,\n",
       "         11.494513511657715, 12.513264656066895, 13.393389701843262,\n",
       "         11.926251411437988, 11.447989463806152, --, 12.69749927520752,\n",
       "         11.390945434570312, 12.868833541870117, 11.063963890075684,\n",
       "         10.398027420043945, 11.513741493225098, --, 10.973834037780762,\n",
       "         --, 13.067834854125977, 10.191779136657715, 9.27625846862793,\n",
       "         11.037771224975586, 12.107072830200195, 10.915640830993652],\n",
       "        [10.506292343139648, 9.656628608703613, 12.432613372802734,\n",
       "         11.500889778137207, 13.274163246154785, 10.655640602111816,\n",
       "         9.50113582611084, 9.638799667358398, 11.558743476867676,\n",
       "         10.698822021484375, 11.84759521484375, 10.029563903808594,\n",
       "         11.048446655273438, --, 9.48550033569336, 12.503114700317383,\n",
       "         --, 10.606478691101074, 9.220982551574707, 9.15501880645752,\n",
       "         10.156257629394531, 10.50510025024414, --, 9.89952278137207, --,\n",
       "         9.267498970031738, 11.070596694946289, 9.945263862609863,\n",
       "         9.903785705566406, --, --, 9.950807571411133, --, --,\n",
       "         11.485589027404785, 9.997694969177246],\n",
       "        [--, --, --, 10.118366241455078, --, --, --, --,\n",
       "         9.963885307312012, --, --, --, 10.975797653198242, --, --,\n",
       "         10.098758697509766, --, 10.955215454101562, --, --,\n",
       "         13.077183723449707, --, --, --, --, --, 10.912975311279297,\n",
       "         11.083054542541504, --, --, 9.766349792480469, --, --,\n",
       "         9.034095764160156, 11.806112289428711, 9.165633201599121],\n",
       "        [10.235189437866211, --, 11.956724166870117, --,\n",
       "         9.502045631408691, 9.77842903137207, --, --, --,\n",
       "         10.150721549987793, 9.34216022491455, 12.388981819152832,\n",
       "         13.696464538574219, --, --, 9.797589302062988, --,\n",
       "         11.449090003967285, 10.539843559265137, 10.961644172668457,\n",
       "         10.574660301208496, --, 9.241974830627441, 11.436596870422363,\n",
       "         9.003912925720215, 11.410605430603027, 13.381014823913574,\n",
       "         12.933774948120117, --, 10.697636604309082, 12.811081886291504,\n",
       "         10.047028541564941, --, 11.646990776062012, 11.996465682983398,\n",
       "         11.151147842407227],\n",
       "        [10.230055809020996, 11.260978698730469, 10.87347412109375,\n",
       "         9.165668487548828, --, 10.403007507324219, --,\n",
       "         10.887541770935059, 9.732076644897461, --, --,\n",
       "         13.721837043762207, 9.814844131469727, 9.112529754638672, --,\n",
       "         9.366758346557617, 9.743535041809082, 9.956160545349121,\n",
       "         9.625560760498047, 10.40075969696045, 9.079203605651855,\n",
       "         10.574028015136719, --, 12.270964622497559, --, --,\n",
       "         11.275733947753906, --, 9.338949203491211, 11.269683837890625,\n",
       "         11.50898265838623, --, --, 10.15394115447998, --,\n",
       "         9.757798194885254],\n",
       "        [--, 10.393646240234375, --, --, --, 10.325462341308594,\n",
       "         9.396986961364746, --, --, 9.892400741577148, --, --, --, --,\n",
       "         --, 11.24014949798584, 10.529562950134277, 9.224837303161621,\n",
       "         10.416765213012695, 11.036869049072266, --, --,\n",
       "         10.869359970092773, 11.700085639953613, --, 9.505960464477539,\n",
       "         12.43863296508789, 10.68182373046875, 10.391948699951172, --,\n",
       "         9.219974517822266, --, --, --, 9.38253116607666,\n",
       "         10.98008918762207],\n",
       "        [13.090099334716797, 14.148398399353027, 15.518383979797363,\n",
       "         9.34870433807373, 9.59353256225586, 10.889444351196289,\n",
       "         10.185262680053711, 10.591303825378418, 10.354427337646484,\n",
       "         13.275551795959473, 11.476231575012207, --, 12.254435539245605,\n",
       "         10.768847465515137, 13.580126762390137, 10.733763694763184,\n",
       "         11.344566345214844, 13.2252836227417, --, 10.194378852844238,\n",
       "         9.301090240478516, 11.954610824584961, 10.408432006835938,\n",
       "         12.321663856506348, 10.921150207519531, 11.459759712219238,\n",
       "         14.292591094970703, 12.313344955444336, 10.997749328613281,\n",
       "         9.008610725402832, 14.367868423461914, 11.352466583251953,\n",
       "         13.09708309173584, 9.64315128326416, 13.677902221679688,\n",
       "         13.286853790283203]],\n",
       "  mask=[[False, False, False, False, False, False, False, False, False,\n",
       "         False, False, False, False, False, False, False, False, False,\n",
       "         False, False, False, False, False, False, False, False, False,\n",
       "         False, False, False, False, False, False, False, False, False],\n",
       "        [False, False, False, False, False, False, False, False, False,\n",
       "         False, False, False, False, False, False, False, False, False,\n",
       "         False, False,  True, False, False, False, False, False, False,\n",
       "          True, False,  True, False, False, False, False, False, False],\n",
       "        [False, False, False, False, False, False, False, False, False,\n",
       "         False, False, False, False,  True, False, False,  True, False,\n",
       "         False, False, False, False,  True, False,  True, False, False,\n",
       "         False, False,  True,  True, False,  True,  True, False, False],\n",
       "        [ True,  True,  True, False,  True,  True,  True,  True, False,\n",
       "          True,  True,  True, False,  True,  True, False,  True, False,\n",
       "          True,  True, False,  True,  True,  True,  True,  True, False,\n",
       "         False,  True,  True, False,  True,  True, False, False, False],\n",
       "        [False,  True, False,  True, False, False,  True,  True,  True,\n",
       "         False, False, False, False,  True,  True, False,  True, False,\n",
       "         False, False, False,  True, False, False, False, False, False,\n",
       "         False,  True, False, False, False,  True, False, False, False],\n",
       "        [False, False, False, False,  True, False,  True, False, False,\n",
       "          True,  True, False, False, False,  True, False, False, False,\n",
       "         False, False, False, False,  True, False,  True,  True, False,\n",
       "          True, False, False, False,  True,  True, False,  True, False],\n",
       "        [ True, False,  True,  True,  True, False, False,  True,  True,\n",
       "         False,  True,  True,  True,  True,  True, False, False, False,\n",
       "         False, False,  True,  True, False, False,  True, False, False,\n",
       "         False, False,  True, False,  True,  True,  True, False, False],\n",
       "        [False, False, False, False, False, False, False, False, False,\n",
       "         False, False,  True, False, False, False, False, False, False,\n",
       "          True, False, False, False, False, False, False, False, False,\n",
       "         False, False, False, False, False, False, False, False, False]],\n",
       "  fill_value=1e+20,\n",
       "  dtype=float32)"
      ]
     },
     "execution_count": 438,
     "metadata": {},
     "output_type": "execute_result"
    }
   ],
   "source": [
    "ces_metric"
   ]
  },
  {
   "cell_type": "code",
   "execution_count": 336,
   "metadata": {},
   "outputs": [
    {
     "ename": "IndexError",
     "evalue": "only integers, slices (`:`), ellipsis (`...`), numpy.newaxis (`None`) and integer or boolean arrays are valid indices",
     "output_type": "error",
     "traceback": [
      "\u001b[0;31m---------------------------------------------------------------------------\u001b[0m",
      "\u001b[0;31mIndexError\u001b[0m                                Traceback (most recent call last)",
      "\u001b[0;32m<ipython-input-336-07aa768bd449>\u001b[0m in \u001b[0;36m<module>\u001b[0;34m\u001b[0m\n\u001b[1;32m      9\u001b[0m         \u001b[0;31m#print(u850_ba[t,member].data, v850_ba[t,member].data, speed_ba[t,member].data)\u001b[0m\u001b[0;34m\u001b[0m\u001b[0;34m\u001b[0m\u001b[0;34m\u001b[0m\u001b[0m\n\u001b[1;32m     10\u001b[0m         \u001b[0;31m#print('Cold surge detected!!!')\u001b[0m\u001b[0;34m\u001b[0m\u001b[0;34m\u001b[0m\u001b[0;34m\u001b[0m\u001b[0m\n\u001b[0;32m---> 11\u001b[0;31m         \u001b[0mcs_metric\u001b[0m\u001b[0;34m[\u001b[0m\u001b[0mmember\u001b[0m\u001b[0;34m,\u001b[0m \u001b[0mtime\u001b[0m\u001b[0;34m]\u001b[0m \u001b[0;34m=\u001b[0m \u001b[0;36m1\u001b[0m\u001b[0;34m\u001b[0m\u001b[0;34m\u001b[0m\u001b[0m\n\u001b[0m\u001b[1;32m     12\u001b[0m \u001b[0;34m\u001b[0m\u001b[0m\n\u001b[1;32m     13\u001b[0m         \u001b[0mv850_hattori_ts\u001b[0m \u001b[0;34m=\u001b[0m \u001b[0mv850_hattori\u001b[0m\u001b[0;34m.\u001b[0m\u001b[0mextract\u001b[0m\u001b[0;34m(\u001b[0m\u001b[0miris\u001b[0m\u001b[0;34m.\u001b[0m\u001b[0mConstraint\u001b[0m\u001b[0;34m(\u001b[0m\u001b[0mforecast_period\u001b[0m\u001b[0;34m=\u001b[0m\u001b[0mtime\u001b[0m\u001b[0;34m,\u001b[0m \u001b[0mrealization\u001b[0m\u001b[0;34m=\u001b[0m\u001b[0mmember\u001b[0m\u001b[0;34m)\u001b[0m\u001b[0;34m)\u001b[0m\u001b[0;34m\u001b[0m\u001b[0;34m\u001b[0m\u001b[0m\n",
      "\u001b[0;31mIndexError\u001b[0m: only integers, slices (`:`), ellipsis (`...`), numpy.newaxis (`None`) and integer or boolean arrays are valid indices"
     ]
    }
   ],
   "source": []
  },
  {
   "cell_type": "code",
   "execution_count": 355,
   "metadata": {},
   "outputs": [
    {
     "data": {
      "text/plain": [
       "<matplotlib.colorbar.Colorbar at 0x7fdfea8c5278>"
      ]
     },
     "execution_count": 355,
     "metadata": {},
     "output_type": "execute_result"
    }
   ],
   "source": [
    "plt.pcolormesh(ces_metric)\n",
    "plt.colorbar()"
   ]
  },
  {
   "cell_type": "code",
   "execution_count": 296,
   "metadata": {},
   "outputs": [
    {
     "data": {
      "text/plain": [
       "[<matplotlib.lines.Line2D at 0x7fdff49840b8>]"
      ]
     },
     "execution_count": 296,
     "metadata": {},
     "output_type": "execute_result"
    }
   ],
   "source": [
    "qplt.plot(cs_prob)"
   ]
  },
  {
   "cell_type": "code",
   "execution_count": null,
   "metadata": {},
   "outputs": [],
   "source": []
  }
 ],
 "metadata": {
  "kernelspec": {
   "display_name": "Python 3",
   "language": "python",
   "name": "python3"
  },
  "language_info": {
   "codemirror_mode": {
    "name": "ipython",
    "version": 3
   },
   "file_extension": ".py",
   "mimetype": "text/x-python",
   "name": "python",
   "nbconvert_exporter": "python",
   "pygments_lexer": "ipython3",
   "version": "3.6.10"
  }
 },
 "nbformat": 4,
 "nbformat_minor": 4
}
