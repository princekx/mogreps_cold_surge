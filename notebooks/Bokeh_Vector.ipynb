{
 "cells": [
  {
   "cell_type": "code",
   "execution_count": 1,
   "metadata": {},
   "outputs": [],
   "source": [
    "import iris\n",
    "import numpy as np\n",
    "import itertools\n",
    "import datetime\n",
    "import glob\n",
    "import os\n",
    "from bokeh.plotting import figure, show, save\n",
    "from bokeh.models import ColumnDataSource, Grid, LinearAxis, Patches, Plot"
   ]
  },
  {
   "cell_type": "code",
   "execution_count": 2,
   "metadata": {},
   "outputs": [
    {
     "name": "stderr",
     "output_type": "stream",
     "text": [
      "/opt/scitools/environments/default/2020_10_12/lib/python3.6/site-packages/iris/coords.py:1410: UserWarning: Collapsing a non-contiguous coordinate. Metadata may not be fully descriptive for 'realization'.\n",
      "  warnings.warn(msg.format(self.name()))\n",
      "/opt/scitools/environments/default/2020_10_12/lib/python3.6/site-packages/iris/coords.py:1406: UserWarning: Collapsing a multi-dimensional coordinate. Metadata may not be fully descriptive for 'forecast_reference_time'.\n",
      "  warnings.warn(msg.format(self.name()))\n",
      "/opt/scitools/environments/default/2020_10_12/lib/python3.6/site-packages/iris/coords.py:1406: UserWarning: Collapsing a multi-dimensional coordinate. Metadata may not be fully descriptive for 'time'.\n",
      "  warnings.warn(msg.format(self.name()))\n",
      "/opt/scitools/environments/default/2020_10_12/lib/python3.6/site-packages/iris/coords.py:1410: UserWarning: Collapsing a non-contiguous coordinate. Metadata may not be fully descriptive for 'realization'.\n",
      "  warnings.warn(msg.format(self.name()))\n",
      "/opt/scitools/environments/default/2020_10_12/lib/python3.6/site-packages/iris/coords.py:1406: UserWarning: Collapsing a multi-dimensional coordinate. Metadata may not be fully descriptive for 'forecast_reference_time'.\n",
      "  warnings.warn(msg.format(self.name()))\n",
      "/opt/scitools/environments/default/2020_10_12/lib/python3.6/site-packages/iris/coords.py:1406: UserWarning: Collapsing a multi-dimensional coordinate. Metadata may not be fully descriptive for 'time'.\n",
      "  warnings.warn(msg.format(self.name()))\n",
      "/opt/scitools/environments/default/2020_10_12/lib/python3.6/site-packages/iris/coords.py:1410: UserWarning: Collapsing a non-contiguous coordinate. Metadata may not be fully descriptive for 'realization'.\n",
      "  warnings.warn(msg.format(self.name()))\n",
      "/opt/scitools/environments/default/2020_10_12/lib/python3.6/site-packages/iris/coords.py:1406: UserWarning: Collapsing a multi-dimensional coordinate. Metadata may not be fully descriptive for 'forecast_reference_time'.\n",
      "  warnings.warn(msg.format(self.name()))\n",
      "/opt/scitools/environments/default/2020_10_12/lib/python3.6/site-packages/iris/coords.py:1406: UserWarning: Collapsing a multi-dimensional coordinate. Metadata may not be fully descriptive for 'time'.\n",
      "  warnings.warn(msg.format(self.name()))\n"
     ]
    }
   ],
   "source": [
    "forecast_date_time = datetime.datetime(2020, 11, 1, 12)\n",
    "str_year, str_month, str_day, str_hour = str(forecast_date_time.year), \\\n",
    "                                             str('%02d' % forecast_date_time.month), \\\n",
    "                                             str('%02d' % forecast_date_time.day), \\\n",
    "                                             str('%02d' % forecast_date_time.hour)\n",
    "\n",
    "date_label = '%s%s%s_%sZ' % (str_year, str_month, str_day, str_hour)\n",
    "out_data_dir = os.path.join('/scratch/hadpx/cold_surge_monitoring/mogreps/processed_data', str_year, str_month, str_day, str_hour)\n",
    "u850_file_name = os.path.join(out_data_dir, 'MOG_x_wind_850_24H_%s.nc' % (date_label))\n",
    "u850_cube = iris.load_cube(u850_file_name)\n",
    "\n",
    "v850_file_name = os.path.join(out_data_dir, 'MOG_y_wind_850_24H_%s.nc' % (date_label))\n",
    "v850_cube = iris.load_cube(v850_file_name)\n",
    "speed_cube = (u850_cube**2 + v850_cube**2)**0.5\n",
    "u850_ens_mean = u850_cube.collapsed('realization', iris.analysis.MEAN)\n",
    "v850_ens_mean = v850_cube.collapsed('realization', iris.analysis.MEAN)\n",
    "speed_ens_mean = speed_cube.collapsed('realization', iris.analysis.MEAN)"
   ]
  },
  {
   "cell_type": "code",
   "execution_count": 3,
   "metadata": {},
   "outputs": [],
   "source": [
    "import math\n",
    "import numpy as np\n",
    "from bokeh.palettes import Viridis11\n",
    "class vector():\n",
    "    '''\n",
    "    Generates vectors for plotting winds.\n",
    "    '''    \n",
    "    def __init__(self, u, v, **kwargs):\n",
    "        '''\n",
    "        '''\n",
    "        # Get arguments\n",
    "        xSkip = kwargs.get(\"xSkip\", 2)\n",
    "        ySkip = kwargs.get(\"ySkip\", 2)\n",
    "        maxSpeed = kwargs.get(\"maxSpeed\", 20.)\n",
    "        arrowHeadAngle = kwargs.get(\"arrowHeadAngle\", 35.)\n",
    "        arrowHeadScale = kwargs.get(\"arrowHeadScale\", 1.)\n",
    "        arrowType = kwargs.get(\"arrowType\", \"barbed\")\n",
    "        palette = kwargs.get('palette', Viridis11)\n",
    "        palette_reverse = kwargs.get('palette_reverse', False)\n",
    "        \n",
    "        if palette_reverse:\n",
    "            palette.reverse()\n",
    "        \n",
    "        u = u[::ySkip, ::xSkip]\n",
    "        v = v[::ySkip, ::xSkip]\n",
    "            \n",
    "        x = u.coord('longitude').points\n",
    "        y = u.coord('latitude').points\n",
    "        U = u.data\n",
    "        V = v.data\n",
    "        \n",
    "        X, Y = np.meshgrid(x, y)\n",
    "        speed = np.sqrt(U * U + V * V)\n",
    "        \n",
    "        # theta = np.arctan2(U, V)\n",
    "        # r2d = 45.0 / math.atan(1.0)\n",
    "        # theta = np.arctan2(U, V) + 45.*np.pi/180.\n",
    "        # theta = -(np.arctan2(U, V) + np.pi / 2)\n",
    "        # as per matplotlib.quiver code\n",
    "        theta = np.arctan2(V, U)\n",
    "        \n",
    "        x0 = X.flatten()\n",
    "        y0 = Y.flatten()\n",
    "        length = speed.flatten() / maxSpeed\n",
    "        angle = theta.flatten()\n",
    "        x1 = x0 + length * np.cos(angle)\n",
    "        y1 = y0 + length * np.sin(angle)\n",
    "\n",
    "        # Colors\n",
    "        cm = np.array(palette)\n",
    "        #ix = ((length - length.min()) / (length.max() - length.min()) * (maxSpeed)).astype('int')\n",
    "        ix = [int(i) for i in np.interp(length, (length.min(), length.max()), (0, len(cm)-1))]\n",
    "        \n",
    "        self.colors = cm[ix]\n",
    "        #print(min(ix), max(ix), len(cm))\n",
    "        \n",
    "        dx = x1 - x0\n",
    "        dy = y1 - y0\n",
    "\n",
    "        rad = math.radians(arrowHeadAngle)  # ; //35 angle, can be adjusted\n",
    "        # This is for Kite shaped arrows\n",
    "        xR = x1 - arrowHeadScale * length  * np.cos(angle + rad)\n",
    "        yR = y1 - arrowHeadScale * length * np.sin(angle + rad)\n",
    "\n",
    "        xL = x1 - arrowHeadScale * length  * np.cos(angle - rad)\n",
    "        yL = y1 - arrowHeadScale * length  * np.sin(angle - rad)\n",
    "        \n",
    "        if arrowType in ['kite', 'Kite', 'KITE']:\n",
    "            self.xs = [[x1[i],xR[i],x0[i],xL[i],x1[i]] for i in range(len(x0))]\n",
    "            self.ys = [[y1[i],yR[i],y0[i],yL[i],y1[i]] for i in range(len(y0))]\n",
    "            \n",
    "        if arrowType in ['barbed', 'Barbed', 'BARBED']:\n",
    "            # for barbed arrows --|>\n",
    "            xR1 = x1 - arrowHeadScale * length*0.5 * np.cos(angle + rad*0.5)\n",
    "            yR1 = y1 - arrowHeadScale * length*0.5 * np.sin(angle + rad*0.5)\n",
    "\n",
    "            xL1 = x1 - arrowHeadScale * length*0.5 * np.cos(angle - rad*0.5)\n",
    "            yL1 = y1 - arrowHeadScale * length*0.5 * np.sin(angle - rad*0.5)\n",
    "            \n",
    "            self.xs = [[x1[i],xR[i],xR1[i],x0[i],xL1[i],xL[i],x1[i]] for i in range(len(x0))]\n",
    "            self.ys = [[y1[i],yR[i],yR1[i],y0[i],yL1[i],yL[i],y1[i]] for i in range(len(y0))]\n"
   ]
  },
  {
   "cell_type": "code",
   "execution_count": 4,
   "metadata": {},
   "outputs": [],
   "source": [
    "vec = vector(u850_ens_mean[0], v850_ens_mean[0], xSkip=5, ySkip=10)"
   ]
  },
  {
   "cell_type": "code",
   "execution_count": null,
   "metadata": {},
   "outputs": [],
   "source": []
  },
  {
   "cell_type": "code",
   "execution_count": 85,
   "metadata": {},
   "outputs": [],
   "source": [
    "def segment(x, y, U, V, density = 2, maxspeed=40):\n",
    "\n",
    "    X, Y = np.meshgrid(x, y)\n",
    "    speed = np.sqrt(U * U + V * V)\n",
    "    theta = np.arctan(V / U)\n",
    "\n",
    "    x0 = X[::density, ::density].flatten()\n",
    "    y0 = Y[::density, ::density].flatten()\n",
    "    length = speed[::density, ::density].flatten() / maxspeed\n",
    "    angle = theta[::density, ::density].flatten()\n",
    "    x1 = x0 + length * np.cos(angle)\n",
    "    y1 = y0 + length * np.sin(angle)\n",
    "\n",
    "    return x0, y0, x1, y1, length\n",
    "\n",
    "\n"
   ]
  },
  {
   "cell_type": "code",
   "execution_count": 86,
   "metadata": {},
   "outputs": [],
   "source": [
    "u = u850_ens_mean[0,:5,:5]\n",
    "v = v850_ens_mean[0,:5,:5]\n",
    "x = u.coord('longitude').points\n",
    "y = u.coord('latitude').points"
   ]
  },
  {
   "cell_type": "code",
   "execution_count": 151,
   "metadata": {},
   "outputs": [],
   "source": []
  },
  {
   "cell_type": "code",
   "execution_count": null,
   "metadata": {},
   "outputs": [],
   "source": []
  },
  {
   "cell_type": "code",
   "execution_count": 5,
   "metadata": {},
   "outputs": [],
   "source": [
    "vec = vector(u850_ens_mean[0], v850_ens_mean[0], xSkip=7, ySkip=7, \n",
    "             maxSpeed=5, arrowType='barbed', arrowHeadScale=0.2)"
   ]
  },
  {
   "cell_type": "code",
   "execution_count": 6,
   "metadata": {},
   "outputs": [
    {
     "data": {
      "text/plain": [
       "806"
      ]
     },
     "execution_count": 6,
     "metadata": {},
     "output_type": "execute_result"
    }
   ],
   "source": [
    "len(vec.colors)"
   ]
  },
  {
   "cell_type": "code",
   "execution_count": 8,
   "metadata": {},
   "outputs": [],
   "source": [
    "arrow_source = ColumnDataSource(dict(xs=vec.xs, ys=vec.ys, colors=vec.colors))\n",
    "\n",
    "plot = figure(plot_height=400, plot_width=1000, title='',\n",
    "                           tools=[\"pan, reset, save, box_zoom, wheel_zoom, hover\"],\n",
    "                          x_axis_label='Longitude', y_axis_label='Latitude')\n",
    "thickness_scale=10\n",
    "plot.patches(xs=\"xs\", ys=\"ys\", fill_color=\"colors\", line_color=\"colors\", fill_alpha = 0.7, source=arrow_source)\n",
    "\n",
    "show(plot)"
   ]
  },
  {
   "cell_type": "code",
   "execution_count": 133,
   "metadata": {},
   "outputs": [
    {
     "data": {
      "text/html": [
       "<div style=\"display: table;\"><div style=\"display: table-row;\"><div style=\"display: table-cell;\"><b title=\"bokeh.models.renderers.GlyphRenderer\">GlyphRenderer</b>(</div><div style=\"display: table-cell;\">id&nbsp;=&nbsp;'3914', <span id=\"3927\" style=\"cursor: pointer;\">&hellip;)</span></div></div><div class=\"3926\" style=\"display: none;\"><div style=\"display: table-cell;\"></div><div style=\"display: table-cell;\">data_source&nbsp;=&nbsp;ColumnDataSource(id='3911', ...),</div></div><div class=\"3926\" style=\"display: none;\"><div style=\"display: table-cell;\"></div><div style=\"display: table-cell;\">glyph&nbsp;=&nbsp;MultiPolygons(id='3912', ...),</div></div><div class=\"3926\" style=\"display: none;\"><div style=\"display: table-cell;\"></div><div style=\"display: table-cell;\">hover_glyph&nbsp;=&nbsp;None,</div></div><div class=\"3926\" style=\"display: none;\"><div style=\"display: table-cell;\"></div><div style=\"display: table-cell;\">js_event_callbacks&nbsp;=&nbsp;{},</div></div><div class=\"3926\" style=\"display: none;\"><div style=\"display: table-cell;\"></div><div style=\"display: table-cell;\">js_property_callbacks&nbsp;=&nbsp;{},</div></div><div class=\"3926\" style=\"display: none;\"><div style=\"display: table-cell;\"></div><div style=\"display: table-cell;\">level&nbsp;=&nbsp;'glyph',</div></div><div class=\"3926\" style=\"display: none;\"><div style=\"display: table-cell;\"></div><div style=\"display: table-cell;\">muted&nbsp;=&nbsp;False,</div></div><div class=\"3926\" style=\"display: none;\"><div style=\"display: table-cell;\"></div><div style=\"display: table-cell;\">muted_glyph&nbsp;=&nbsp;None,</div></div><div class=\"3926\" style=\"display: none;\"><div style=\"display: table-cell;\"></div><div style=\"display: table-cell;\">name&nbsp;=&nbsp;None,</div></div><div class=\"3926\" style=\"display: none;\"><div style=\"display: table-cell;\"></div><div style=\"display: table-cell;\">nonselection_glyph&nbsp;=&nbsp;MultiPolygons(id='3913', ...),</div></div><div class=\"3926\" style=\"display: none;\"><div style=\"display: table-cell;\"></div><div style=\"display: table-cell;\">selection_glyph&nbsp;=&nbsp;None,</div></div><div class=\"3926\" style=\"display: none;\"><div style=\"display: table-cell;\"></div><div style=\"display: table-cell;\">subscribed_events&nbsp;=&nbsp;[],</div></div><div class=\"3926\" style=\"display: none;\"><div style=\"display: table-cell;\"></div><div style=\"display: table-cell;\">tags&nbsp;=&nbsp;[],</div></div><div class=\"3926\" style=\"display: none;\"><div style=\"display: table-cell;\"></div><div style=\"display: table-cell;\">view&nbsp;=&nbsp;CDSView(id='3915', ...),</div></div><div class=\"3926\" style=\"display: none;\"><div style=\"display: table-cell;\"></div><div style=\"display: table-cell;\">visible&nbsp;=&nbsp;True,</div></div><div class=\"3926\" style=\"display: none;\"><div style=\"display: table-cell;\"></div><div style=\"display: table-cell;\">x_range_name&nbsp;=&nbsp;'default',</div></div><div class=\"3926\" style=\"display: none;\"><div style=\"display: table-cell;\"></div><div style=\"display: table-cell;\">y_range_name&nbsp;=&nbsp;'default')</div></div></div>\n",
       "<script>\n",
       "(function() {\n",
       "  var expanded = false;\n",
       "  var ellipsis = document.getElementById(\"3927\");\n",
       "  ellipsis.addEventListener(\"click\", function() {\n",
       "    var rows = document.getElementsByClassName(\"3926\");\n",
       "    for (var i = 0; i < rows.length; i++) {\n",
       "      var el = rows[i];\n",
       "      el.style.display = expanded ? \"none\" : \"table-row\";\n",
       "    }\n",
       "    ellipsis.innerHTML = expanded ? \"&hellip;)\" : \"&lsaquo;&lsaquo;&lsaquo;\";\n",
       "    expanded = !expanded;\n",
       "  });\n",
       "})();\n",
       "</script>\n"
      ],
      "text/plain": [
       "GlyphRenderer(id='3914', ...)"
      ]
     },
     "execution_count": 133,
     "metadata": {},
     "output_type": "execute_result"
    }
   ],
   "source": []
  },
  {
   "cell_type": "code",
   "execution_count": 110,
   "metadata": {},
   "outputs": [],
   "source": [
    "xs=np.array([[[ [1, 1, 2, 2], [1.2, 1.6, 1.6], [1.8, 1.8, 1.6] ], [ [3, 3, 4] ]],\n",
    "        [[ [1, 2, 2, 1], [1.3, 1.3, 1.7, 1.7] ]]])"
   ]
  },
  {
   "cell_type": "code",
   "execution_count": 114,
   "metadata": {},
   "outputs": [
    {
     "data": {
      "text/plain": [
       "[[[1, 1, 2, 2], [1.2, 1.6, 1.6], [1.8, 1.8, 1.6]], [[3, 3, 4]]]"
      ]
     },
     "execution_count": 114,
     "metadata": {},
     "output_type": "execute_result"
    }
   ],
   "source": [
    "xs[0]#.shape"
   ]
  },
  {
   "cell_type": "code",
   "execution_count": null,
   "metadata": {},
   "outputs": [],
   "source": []
  }
 ],
 "metadata": {
  "kernelspec": {
   "display_name": "Python 3",
   "language": "python",
   "name": "python3"
  },
  "language_info": {
   "codemirror_mode": {
    "name": "ipython",
    "version": 3
   },
   "file_extension": ".py",
   "mimetype": "text/x-python",
   "name": "python",
   "nbconvert_exporter": "python",
   "pygments_lexer": "ipython3",
   "version": "3.6.10"
  }
 },
 "nbformat": 4,
 "nbformat_minor": 4
}
