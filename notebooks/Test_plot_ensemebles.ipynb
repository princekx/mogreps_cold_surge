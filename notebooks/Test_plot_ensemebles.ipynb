{
 "cells": [
  {
   "cell_type": "code",
   "execution_count": 1,
   "metadata": {},
   "outputs": [
    {
     "name": "stdout",
     "output_type": "stream",
     "text": [
      "Using matplotlib backend: Qt5Agg\n"
     ]
    }
   ],
   "source": [
    "import iris\n",
    "import numpy as np\n",
    "import matplotlib.pyplot as plt\n",
    "import matplotlib.colors as colors\n",
    "import iris.quickplot as qplt\n",
    "import iris.plot as iplt\n",
    "import itertools\n",
    "import datetime\n",
    "import glob\n",
    "import os, sys\n",
    "import cartopy.crs as ccrs\n",
    "%matplotlib"
   ]
  },
  {
   "cell_type": "code",
   "execution_count": 2,
   "metadata": {},
   "outputs": [],
   "source": [
    "forecast_date_time = datetime.datetime(2020, 11, 1, 12)\n",
    "str_year, str_month, str_day, str_hour = str(forecast_date_time.year), \\\n",
    "                                             str('%02d' % forecast_date_time.month), \\\n",
    "                                             str('%02d' % forecast_date_time.day), \\\n",
    "                                             str('%02d' % forecast_date_time.hour)\n",
    "\n",
    "date_label = '%s%s%s_%sZ' % (str_year, str_month, str_day, str_hour)"
   ]
  },
  {
   "cell_type": "code",
   "execution_count": 3,
   "metadata": {},
   "outputs": [],
   "source": [
    "#out_data_dir = os.path.join(data_paths.dirs('mog_forecast_out_dir'), str_year, str_month, str_day)\n",
    "out_data_dir = os.path.join('/scratch/hadpx/cold_surge_monitoring/mogreps/processed_data', str_year, str_month, str_day, str_hour)"
   ]
  },
  {
   "cell_type": "code",
   "execution_count": 4,
   "metadata": {},
   "outputs": [],
   "source": [
    "# Read the processed and combined data\n",
    "precip_file_name = os.path.join(out_data_dir, 'MOG_PRECIP_24H_%s.nc' % (date_label))\n",
    "precip_cube = iris.load_cube(precip_file_name)\n",
    "\n",
    "u850_file_name = os.path.join(out_data_dir, 'MOG_x_wind_850_24H_%s.nc' % (date_label))\n",
    "u850_cube = iris.load_cube(u850_file_name)\n",
    "\n",
    "v850_file_name = os.path.join(out_data_dir, 'MOG_y_wind_850_24H_%s.nc' % (date_label))\n",
    "v850_cube = iris.load_cube(v850_file_name)"
   ]
  },
  {
   "cell_type": "code",
   "execution_count": 5,
   "metadata": {},
   "outputs": [],
   "source": [
    "speed_cube = (u850_cube**2 + v850_cube**2)**0.5"
   ]
  },
  {
   "cell_type": "code",
   "execution_count": null,
   "metadata": {},
   "outputs": [],
   "source": []
  },
  {
   "cell_type": "code",
   "execution_count": 6,
   "metadata": {},
   "outputs": [
    {
     "name": "stderr",
     "output_type": "stream",
     "text": [
      "/opt/scitools/environments/default/2020_10_12/lib/python3.6/site-packages/iris/coords.py:1410: UserWarning: Collapsing a non-contiguous coordinate. Metadata may not be fully descriptive for 'realization'.\n",
      "  warnings.warn(msg.format(self.name()))\n",
      "/opt/scitools/environments/default/2020_10_12/lib/python3.6/site-packages/iris/coords.py:1406: UserWarning: Collapsing a multi-dimensional coordinate. Metadata may not be fully descriptive for 'forecast_reference_time'.\n",
      "  warnings.warn(msg.format(self.name()))\n",
      "/opt/scitools/environments/default/2020_10_12/lib/python3.6/site-packages/iris/coords.py:1406: UserWarning: Collapsing a multi-dimensional coordinate. Metadata may not be fully descriptive for 'time'.\n",
      "  warnings.warn(msg.format(self.name()))\n",
      "/opt/scitools/environments/default/2020_10_12/lib/python3.6/site-packages/iris/coords.py:1410: UserWarning: Collapsing a non-contiguous coordinate. Metadata may not be fully descriptive for 'realization'.\n",
      "  warnings.warn(msg.format(self.name()))\n",
      "/opt/scitools/environments/default/2020_10_12/lib/python3.6/site-packages/iris/coords.py:1406: UserWarning: Collapsing a multi-dimensional coordinate. Metadata may not be fully descriptive for 'forecast_reference_time'.\n",
      "  warnings.warn(msg.format(self.name()))\n",
      "/opt/scitools/environments/default/2020_10_12/lib/python3.6/site-packages/iris/coords.py:1406: UserWarning: Collapsing a multi-dimensional coordinate. Metadata may not be fully descriptive for 'time'.\n",
      "  warnings.warn(msg.format(self.name()))\n",
      "/opt/scitools/environments/default/2020_10_12/lib/python3.6/site-packages/iris/coords.py:1410: UserWarning: Collapsing a non-contiguous coordinate. Metadata may not be fully descriptive for 'realization'.\n",
      "  warnings.warn(msg.format(self.name()))\n",
      "/opt/scitools/environments/default/2020_10_12/lib/python3.6/site-packages/iris/coords.py:1406: UserWarning: Collapsing a multi-dimensional coordinate. Metadata may not be fully descriptive for 'forecast_reference_time'.\n",
      "  warnings.warn(msg.format(self.name()))\n",
      "/opt/scitools/environments/default/2020_10_12/lib/python3.6/site-packages/iris/coords.py:1406: UserWarning: Collapsing a multi-dimensional coordinate. Metadata may not be fully descriptive for 'time'.\n",
      "  warnings.warn(msg.format(self.name()))\n",
      "/opt/scitools/environments/default/2020_10_12/lib/python3.6/site-packages/iris/coords.py:1410: UserWarning: Collapsing a non-contiguous coordinate. Metadata may not be fully descriptive for 'realization'.\n",
      "  warnings.warn(msg.format(self.name()))\n",
      "/opt/scitools/environments/default/2020_10_12/lib/python3.6/site-packages/iris/coords.py:1406: UserWarning: Collapsing a multi-dimensional coordinate. Metadata may not be fully descriptive for 'forecast_reference_time'.\n",
      "  warnings.warn(msg.format(self.name()))\n",
      "/opt/scitools/environments/default/2020_10_12/lib/python3.6/site-packages/iris/coords.py:1406: UserWarning: Collapsing a multi-dimensional coordinate. Metadata may not be fully descriptive for 'time'.\n",
      "  warnings.warn(msg.format(self.name()))\n"
     ]
    }
   ],
   "source": [
    "precip_ens_mean = precip_cube.collapsed('realization', iris.analysis.MEAN)\n",
    "u850_ens_mean = u850_cube.collapsed('realization', iris.analysis.MEAN)\n",
    "v850_ens_mean = v850_cube.collapsed('realization', iris.analysis.MEAN)\n",
    "speed_ens_mean = speed_cube.collapsed('realization', iris.analysis.MEAN)"
   ]
  },
  {
   "cell_type": "code",
   "execution_count": 7,
   "metadata": {},
   "outputs": [
    {
     "data": {
      "text/plain": [
       "<matplotlib.contour.QuadContourSet at 0x7f520c06a278>"
      ]
     },
     "execution_count": 7,
     "metadata": {},
     "output_type": "execute_result"
    }
   ],
   "source": [
    "qplt.contourf(speed_ens_mean[0])"
   ]
  },
  {
   "cell_type": "code",
   "execution_count": 13,
   "metadata": {},
   "outputs": [],
   "source": [
    "xlon = u850_cube.coord('longitude').points\n",
    "ylat = u850_cube.coord('latitude').points\n",
    "X, Y = np.meshgrid(xlon, ylat)"
   ]
  },
  {
   "cell_type": "code",
   "execution_count": 14,
   "metadata": {},
   "outputs": [
    {
     "data": {
      "text/plain": [
       "((214, 178), (8, 36, 214, 178), (8, 36, 214, 178))"
      ]
     },
     "execution_count": 14,
     "metadata": {},
     "output_type": "execute_result"
    }
   ],
   "source": [
    "X.shape, u850_cube.shape, v850_cube.shape"
   ]
  },
  {
   "cell_type": "code",
   "execution_count": 9,
   "metadata": {},
   "outputs": [
    {
     "ename": "NameError",
     "evalue": "name 'X' is not defined",
     "output_type": "error",
     "traceback": [
      "\u001b[0;31m---------------------------------------------------------------------------\u001b[0m",
      "\u001b[0;31mNameError\u001b[0m                                 Traceback (most recent call last)",
      "\u001b[0;32m<ipython-input-9-561cf515fcb0>\u001b[0m in \u001b[0;36m<module>\u001b[0;34m\u001b[0m\n\u001b[1;32m     26\u001b[0m \u001b[0;34m\u001b[0m\u001b[0m\n\u001b[1;32m     27\u001b[0m \u001b[0;31m# overplot wind as streamlines\u001b[0m\u001b[0;34m\u001b[0m\u001b[0;34m\u001b[0m\u001b[0;34m\u001b[0m\u001b[0m\n\u001b[0;32m---> 28\u001b[0;31m cl = plt.gca().streamplot(X, Y, u850_ens_mean[t].data, v850_ens_mean[t].data, \n\u001b[0m\u001b[1;32m     29\u001b[0m                           \u001b[0mdensity\u001b[0m\u001b[0;34m=\u001b[0m\u001b[0;34m(\u001b[0m\u001b[0;36m2.\u001b[0m\u001b[0;34m,\u001b[0m \u001b[0;36m1.5\u001b[0m\u001b[0;34m)\u001b[0m\u001b[0;34m,\u001b[0m \u001b[0mmaxlength\u001b[0m\u001b[0;34m=\u001b[0m\u001b[0;36m1\u001b[0m\u001b[0;34m,\u001b[0m \u001b[0mnorm\u001b[0m\u001b[0;34m=\u001b[0m\u001b[0mnorm\u001b[0m\u001b[0;34m,\u001b[0m\u001b[0;34m\u001b[0m\u001b[0;34m\u001b[0m\u001b[0m\n\u001b[1;32m     30\u001b[0m                           \u001b[0mcmap\u001b[0m\u001b[0;34m=\u001b[0m\u001b[0;34m'GnBu'\u001b[0m\u001b[0;34m,\u001b[0m\u001b[0;34m\u001b[0m\u001b[0;34m\u001b[0m\u001b[0m\n",
      "\u001b[0;31mNameError\u001b[0m: name 'X' is not defined"
     ]
    }
   ],
   "source": [
    "t = 2 # for t in times:\n",
    "\n",
    "valid_date = forecast_date_time + datetime.timedelta(days=t)\n",
    "valid_date_label = '%s/%s/%s' % (valid_date.year, str('%02d' % valid_date.month), str('%02d' % valid_date.day))\n",
    "        \n",
    "lw = 3 * speed_ens_mean[t].data / 20.0 #speed.data.max()\n",
    "\n",
    "fig = plt.figure(figsize=(10, 10), dpi=100)\n",
    "\n",
    "# contour plot of precip\n",
    "clevels = [1, 5, 10, 15, 20, 25, 30, 35, 40]\n",
    "cf = iplt.contourf(precip_ens_mean[t], levels=clevels, cmap='gray_r', alpha=0.65, extend='max')\n",
    "axc = plt.gca()\n",
    "axc.coastlines('50m', alpha=0.5)\n",
    "axc.set_ylim([-10, 20])\n",
    "axc.set_xlim([90, 130])\n",
    "axc.stock_img()\n",
    "axc.set_yticks([-10, 0, 10, 20], crs=ccrs.PlateCarree())\n",
    "axc.set_xticks([90, 100, 110, 120, 130], crs=ccrs.PlateCarree())\n",
    "#axc.gridlines()\n",
    "\n",
    "plt.title('Ensemble mean PREC, 850hPa winds \\n Forecast start: %s, Lead: T+%s h \\n Valid at %s' % (date_label, (t * 24), valid_date_label))\n",
    "\n",
    "bounds = np.arange(2,22,2)\n",
    "norm = colors.BoundaryNorm(boundaries=bounds, ncolors=256)\n",
    "    \n",
    "# overplot wind as streamlines\n",
    "cl = plt.gca().streamplot(X, Y, u850_ens_mean[t].data, v850_ens_mean[t].data, \n",
    "                          density=(2., 1.5), maxlength=1, norm=norm,\n",
    "                          cmap='GnBu',\n",
    "                          color=speed_ens_mean[t].data, linewidth=lw)\n",
    "\n",
    "# these are matplotlib.patch.Patch properties\n",
    "props = dict(boxstyle='round', facecolor='wheat', alpha=0.5)\n",
    "\n",
    "font = {'color':  'red', 'weight': 'bold', 'size': 12}\n",
    "axc.text(91, 19, \"COLD SURGE: {:.1f}%\".format(cs_prob[t]*100.), fontdict=font, verticalalignment='top', bbox=props, alpha=0.7)\n",
    "\n",
    "font = {'color':  'red', 'weight': 'bold', 'size': 12}\n",
    "axc.text(91, 17.5, \"CROSS-EQUATORIAL SURGE: {:.1f}%\".format(ces_prob[t]*100.), fontdict=font, verticalalignment='top', bbox=props, alpha=0.7)\n",
    "        \n",
    "colorbar_axes = plt.gcf().add_axes([0.2, 0.12, 0.6, 0.025])\n",
    "colorbar = plt.colorbar(cf, colorbar_axes, orientation='horizontal', label='Precip (mm day$^{-1}$)')\n",
    "\n",
    "colorbar_axes = plt.gcf().add_axes([0.92, 0.25, 0.025, 0.5])\n",
    "colorbar = plt.colorbar(cl.lines, colorbar_axes, orientation='vertical', label='Wind Speed (m s$^{-1}$)')"
   ]
  },
  {
   "cell_type": "code",
   "execution_count": 12,
   "metadata": {},
   "outputs": [
    {
     "ename": "NameError",
     "evalue": "name 'cs_prob' is not defined",
     "output_type": "error",
     "traceback": [
      "\u001b[0;31m---------------------------------------------------------------------------\u001b[0m",
      "\u001b[0;31mNameError\u001b[0m                                 Traceback (most recent call last)",
      "\u001b[0;32m<ipython-input-12-47cfee1a36d4>\u001b[0m in \u001b[0;36m<module>\u001b[0;34m\u001b[0m\n\u001b[0;32m----> 1\u001b[0;31m \u001b[0mprint\u001b[0m\u001b[0;34m(\u001b[0m\u001b[0;34m\"COLD SURGE: {:.1f}%\"\u001b[0m\u001b[0;34m.\u001b[0m\u001b[0mformat\u001b[0m\u001b[0;34m(\u001b[0m\u001b[0mcs_prob\u001b[0m\u001b[0;34m[\u001b[0m\u001b[0mt\u001b[0m\u001b[0;34m]\u001b[0m\u001b[0;34m*\u001b[0m\u001b[0;36m100.\u001b[0m\u001b[0;34m)\u001b[0m\u001b[0;34m)\u001b[0m\u001b[0;34m\u001b[0m\u001b[0;34m\u001b[0m\u001b[0m\n\u001b[0m",
      "\u001b[0;31mNameError\u001b[0m: name 'cs_prob' is not defined"
     ]
    }
   ],
   "source": [
    "print(\"COLD SURGE: {:.1f}%\".format(cs_prob[t]*100.))"
   ]
  },
  {
   "cell_type": "code",
   "execution_count": 188,
   "metadata": {},
   "outputs": [
    {
     "name": "stdout",
     "output_type": "stream",
     "text": [
      "2021-01-01 12:00:00\n",
      "2021-01-02 12:00:00\n",
      "2021-01-03 12:00:00\n",
      "2021-01-04 12:00:00\n",
      "2021-01-05 12:00:00\n",
      "2021-01-06 12:00:00\n",
      "2021-01-07 12:00:00\n",
      "2021-01-08 12:00:00\n"
     ]
    }
   ],
   "source": [
    "for t in np.arange(ntimes):\n",
    "    valid_date = date + datetime.timedelta(days=int(t))\n",
    "    print(valid_date)"
   ]
  },
  {
   "cell_type": "code",
   "execution_count": 72,
   "metadata": {},
   "outputs": [
    {
     "name": "stderr",
     "output_type": "stream",
     "text": [
      "/opt/scitools/environments/default/2020_10_12/lib/python3.6/site-packages/iris/coords.py:1410: UserWarning: Collapsing a non-contiguous coordinate. Metadata may not be fully descriptive for 'realization'.\n",
      "  warnings.warn(msg.format(self.name()))\n",
      "/opt/scitools/environments/default/2020_10_12/lib/python3.6/site-packages/iris/coords.py:1406: UserWarning: Collapsing a multi-dimensional coordinate. Metadata may not be fully descriptive for 'forecast_reference_time'.\n",
      "  warnings.warn(msg.format(self.name()))\n",
      "/opt/scitools/environments/default/2020_10_12/lib/python3.6/site-packages/iris/coords.py:1406: UserWarning: Collapsing a multi-dimensional coordinate. Metadata may not be fully descriptive for 'time'.\n",
      "  warnings.warn(msg.format(self.name()))\n"
     ]
    }
   ],
   "source": [
    "result = precip_cube.collapsed('realization', iris.analysis.PERCENTILE, percent=[10])\n",
    "qplt.contourf(result[2])\n",
    "plt.gca().coastlines()"
   ]
  },
  {
   "cell_type": "code",
   "execution_count": 74,
   "metadata": {},
   "outputs": [
    {
     "name": "stderr",
     "output_type": "stream",
     "text": [
      "/opt/scitools/environments/default/2020_10_12/lib/python3.6/site-packages/iris/coords.py:1410: UserWarning: Collapsing a non-contiguous coordinate. Metadata may not be fully descriptive for 'realization'.\n",
      "  warnings.warn(msg.format(self.name()))\n",
      "/opt/scitools/environments/default/2020_10_12/lib/python3.6/site-packages/iris/coords.py:1406: UserWarning: Collapsing a multi-dimensional coordinate. Metadata may not be fully descriptive for 'forecast_reference_time'.\n",
      "  warnings.warn(msg.format(self.name()))\n",
      "/opt/scitools/environments/default/2020_10_12/lib/python3.6/site-packages/iris/coords.py:1406: UserWarning: Collapsing a multi-dimensional coordinate. Metadata may not be fully descriptive for 'time'.\n",
      "  warnings.warn(msg.format(self.name()))\n"
     ]
    },
    {
     "data": {
      "text/plain": [
       "<cartopy.mpl.feature_artist.FeatureArtist at 0x7fe033ac69e8>"
      ]
     },
     "execution_count": 74,
     "metadata": {},
     "output_type": "execute_result"
    }
   ],
   "source": [
    "result = speed_cube.collapsed('realization', iris.analysis.PERCENTILE, percent=[90])\n",
    "qplt.contourf(result[2])\n",
    "plt.gca().coastlines()"
   ]
  },
  {
   "cell_type": "code",
   "execution_count": 36,
   "metadata": {},
   "outputs": [
    {
     "name": "stderr",
     "output_type": "stream",
     "text": [
      "/opt/scitools/environments/default/2020_10_12/lib/python3.6/site-packages/iris/coords.py:1410: UserWarning: Collapsing a non-contiguous coordinate. Metadata may not be fully descriptive for 'realization'.\n",
      "  warnings.warn(msg.format(self.name()))\n",
      "/opt/scitools/environments/default/2020_10_12/lib/python3.6/site-packages/iris/coords.py:1406: UserWarning: Collapsing a multi-dimensional coordinate. Metadata may not be fully descriptive for 'forecast_reference_time'.\n",
      "  warnings.warn(msg.format(self.name()))\n",
      "/opt/scitools/environments/default/2020_10_12/lib/python3.6/site-packages/iris/coords.py:1406: UserWarning: Collapsing a multi-dimensional coordinate. Metadata may not be fully descriptive for 'time'.\n",
      "  warnings.warn(msg.format(self.name()))\n",
      "/opt/scitools/environments/default/2020_10_12/lib/python3.6/site-packages/iris/coords.py:1410: UserWarning: Collapsing a non-contiguous coordinate. Metadata may not be fully descriptive for 'realization'.\n",
      "  warnings.warn(msg.format(self.name()))\n",
      "/opt/scitools/environments/default/2020_10_12/lib/python3.6/site-packages/iris/coords.py:1406: UserWarning: Collapsing a multi-dimensional coordinate. Metadata may not be fully descriptive for 'forecast_reference_time'.\n",
      "  warnings.warn(msg.format(self.name()))\n",
      "/opt/scitools/environments/default/2020_10_12/lib/python3.6/site-packages/iris/coords.py:1406: UserWarning: Collapsing a multi-dimensional coordinate. Metadata may not be fully descriptive for 'time'.\n",
      "  warnings.warn(msg.format(self.name()))\n"
     ]
    }
   ],
   "source": [
    "t = 1\n",
    "precip_threshold = 50\n",
    "speed_threshold = 10\n",
    "precip_prob = precip_cube.collapsed('realization', iris.analysis.PROPORTION, \n",
    "                               function=lambda values: values > precip_threshold)\n",
    "\n",
    "speed_prob = speed_cube.collapsed('realization', iris.analysis.PROPORTION, \n",
    "                               function=lambda values: values > speed_threshold)\n",
    "\n",
    "fig = plt.figure(figsize=(10, 10), dpi=100)\n",
    "\n",
    "try:\n",
    "    # contour plot of precip\n",
    "    clevels = np.arange(0.1, 1.1, 0.1)\n",
    "    cf = iplt.contourf(precip_prob[t], levels=clevels, cmap='gray_r', alpha=0.65, extend='max')\n",
    "    axc = plt.gca()\n",
    "except:\n",
    "    axc = plt.subplot(111, projection=ccrs.PlateCarree())\n",
    "    \n",
    "axc.coastlines('50m', alpha=0.5)\n",
    "axc.set_ylim([-10, 20])\n",
    "axc.set_xlim([90, 130])\n",
    "axc.stock_img()\n",
    "axc.set_yticks([-10, 0, 10, 20], crs=ccrs.PlateCarree())\n",
    "axc.set_xticks([90, 100, 110, 120, 130], crs=ccrs.PlateCarree())\n",
    "\n",
    "'''\n",
    "axc = fig.add_subplot(1, 1, 1, projection=ccrs.PlateCarree())\n",
    "#axc.set_extent([90, 130, -10, 20], crs=ccrs.PlateCarree())\n",
    "axc.coastlines('50m', alpha=0.5)\n",
    "axc.set_ylim([-10, 20])\n",
    "axc.set_xlim([90, 130])\n",
    "axc.set_yticks([-10, 0, 10, 20], crs=ccrs.PlateCarree())\n",
    "axc.set_xticks([90, 100, 110, 120, 130], crs=ccrs.PlateCarree())\n",
    "axc.stock_img()\n",
    "'''\n",
    "#axc.gridlines()\n",
    "\n",
    "clevels = np.arange(0.5, 1.01, 0.1)\n",
    "cfc = iplt.contour(speed_prob[t], levels=clevels, linewidths=clevels*3, extend='max', alpha=0.7)\n",
    "#plt.gca().coastlines()\n",
    "\n",
    "title = 'Ensemble probability PREC, 850hPa winds \\n Forecast start: %s, Lead: T+%s h \\n Valid at %s' % (date_label, (t * 24), valid_date_label)\n",
    "#title += '\\n Precip. prob (p$\\geq$ %s mm day$^{-1}$)' %precip_threshold\n",
    "#title += '\\n Wind speed. prob (p$\\geq$ %s m s$^{-1}$)' %speed_threshold\n",
    "\n",
    "plt.title(title)\n",
    "colorbar_axes = plt.gcf().add_axes([0.2, 0.12, 0.6, 0.025])\n",
    "colorbar = plt.colorbar(cf, colorbar_axes, orientation='horizontal', label='Precip. prob (p$\\geq$ %s mm day$^{-1}$)' %precip_threshold)\n",
    "\n",
    "colorbar_axes = plt.gcf().add_axes([0.91, 0.2, 0.025, 0.2])\n",
    "cb2 = plt.colorbar(cfc, colorbar_axes, orientation='vertical', label='Wind speed. prob (p$\\geq$ %s m s$^{-1}$)' %speed_threshold)\n",
    "cb2.outline.set_edgecolor('white')\n",
    "# set colorbar ticklabels\n",
    "cb2.ax.tick_params(color=\"white\")"
   ]
  },
  {
   "cell_type": "code",
   "execution_count": 32,
   "metadata": {},
   "outputs": [
    {
     "name": "stderr",
     "output_type": "stream",
     "text": [
      "/opt/scitools/environments/default/2020_10_12/lib/python3.6/site-packages/iris/coords.py:1410: UserWarning: Collapsing a non-contiguous coordinate. Metadata may not be fully descriptive for 'realization'.\n",
      "  warnings.warn(msg.format(self.name()))\n",
      "/opt/scitools/environments/default/2020_10_12/lib/python3.6/site-packages/iris/coords.py:1406: UserWarning: Collapsing a multi-dimensional coordinate. Metadata may not be fully descriptive for 'forecast_reference_time'.\n",
      "  warnings.warn(msg.format(self.name()))\n",
      "/opt/scitools/environments/default/2020_10_12/lib/python3.6/site-packages/iris/coords.py:1406: UserWarning: Collapsing a multi-dimensional coordinate. Metadata may not be fully descriptive for 'time'.\n",
      "  warnings.warn(msg.format(self.name()))\n"
     ]
    }
   ],
   "source": [
    "precip_prob = precip_cube.collapsed('realization', iris.analysis.PROPORTION, \n",
    "                               function=lambda values: values > 2000)"
   ]
  },
  {
   "cell_type": "code",
   "execution_count": 36,
   "metadata": {},
   "outputs": [
    {
     "name": "stderr",
     "output_type": "stream",
     "text": [
      "/opt/scitools/environments/default/2020_10_12/lib/python3.6/site-packages/cartopy/mpl/geoaxes.py:1366: UserWarning: No contour levels were found within the data range.\n",
      "  result = matplotlib.axes.Axes.contour(self, *args, **kwargs)\n"
     ]
    },
    {
     "data": {
      "text/plain": [
       "<matplotlib.contour.QuadContourSet at 0x7f62269ba2b0>"
      ]
     },
     "execution_count": 36,
     "metadata": {},
     "output_type": "execute_result"
    }
   ],
   "source": [
    "iplt.contourf(precip_prob[3])"
   ]
  },
  {
   "cell_type": "code",
   "execution_count": 39,
   "metadata": {},
   "outputs": [
    {
     "data": {
      "text/plain": [
       "<cartopy.mpl.feature_artist.FeatureArtist at 0x7fa9954cb208>"
      ]
     },
     "execution_count": 39,
     "metadata": {},
     "output_type": "execute_result"
    }
   ],
   "source": [
    "#mask = u850_ens_mean[0].data.copy()\n",
    "dummy = speed_ens_mean.copy()\n",
    "mask1 = (u850_ens_mean.data >= 0.) #& \n",
    "mask2 = (v850_ens_mean.data >= 0.) #& \n",
    "mask3 = (speed_ens_mean.data >= 5.)\n",
    "#mask = (speed_ens_mean.data < 10.)\n",
    "dummy.data = np.ma.array(speed_ens_mean.data, mask=mask1*mask2*mask3)\n",
    "qplt.contourf(dummy[0])\n",
    "plt.gca().coastlines()"
   ]
  },
  {
   "cell_type": "code",
   "execution_count": 228,
   "metadata": {},
   "outputs": [
    {
     "data": {
      "text/plain": [
       "<matplotlib.contour.QuadContourSet at 0x7fdffe5b3198>"
      ]
     },
     "execution_count": 228,
     "metadata": {},
     "output_type": "execute_result"
    }
   ],
   "source": []
  },
  {
   "cell_type": "code",
   "execution_count": 85,
   "metadata": {},
   "outputs": [],
   "source": [
    "for member in range(10):\n",
    "    t = 1\n",
    "    plt.quiver(X[:1,:1], Y[:1,:1], u850_cube[t,member, :1,:1].data, v850_cube[t,member, :1,:1].data, alpha=0.2)"
   ]
  },
  {
   "cell_type": "code",
   "execution_count": 83,
   "metadata": {},
   "outputs": [
    {
     "data": {
      "text/html": [
       "\n",
       "<style>\n",
       "  a.iris {\n",
       "      text-decoration: none !important;\n",
       "  }\n",
       "  table.iris {\n",
       "      white-space: pre;\n",
       "      border: 1px solid;\n",
       "      border-color: #9c9c9c;\n",
       "      font-family: monaco, monospace;\n",
       "  }\n",
       "  th.iris {\n",
       "      background: #303f3f;\n",
       "      color: #e0e0e0;\n",
       "      border-left: 1px solid;\n",
       "      border-color: #9c9c9c;\n",
       "      font-size: 1.05em;\n",
       "      min-width: 50px;\n",
       "      max-width: 125px;\n",
       "  }\n",
       "  tr.iris :first-child {\n",
       "      border-right: 1px solid #9c9c9c !important;\n",
       "  }\n",
       "  td.iris-title {\n",
       "      background: #d5dcdf;\n",
       "      border-top: 1px solid #9c9c9c;\n",
       "      font-weight: bold;\n",
       "  }\n",
       "  .iris-word-cell {\n",
       "      text-align: left !important;\n",
       "      white-space: pre;\n",
       "  }\n",
       "  .iris-subheading-cell {\n",
       "      padding-left: 2em !important;\n",
       "  }\n",
       "  .iris-inclusion-cell {\n",
       "      padding-right: 1em !important;\n",
       "  }\n",
       "  .iris-panel-body {\n",
       "      padding-top: 0px;\n",
       "  }\n",
       "  .iris-panel-title {\n",
       "      padding-left: 3em;\n",
       "  }\n",
       "  .iris-panel-title {\n",
       "      margin-top: 7px;\n",
       "  }\n",
       "</style>\n",
       "<table class=\"iris\" id=\"140600794045800\">\n",
       "    <tr class=\"iris\">\n",
       "<th class=\"iris iris-word-cell\">X Wind (m s-1)</th>\n",
       "<th class=\"iris iris-word-cell\">forecast_period</th>\n",
       "<th class=\"iris iris-word-cell\">realization</th>\n",
       "<th class=\"iris iris-word-cell\">latitude</th>\n",
       "<th class=\"iris iris-word-cell\">longitude</th>\n",
       "</tr>\n",
       "    <tr class=\"iris\">\n",
       "<td class=\"iris-word-cell iris-subheading-cell\">Shape</td>\n",
       "<td class=\"iris iris-inclusion-cell\">8</td>\n",
       "<td class=\"iris iris-inclusion-cell\">36</td>\n",
       "<td class=\"iris iris-inclusion-cell\">214</td>\n",
       "<td class=\"iris iris-inclusion-cell\">178</td>\n",
       "</tr>\n",
       "    <tr class=\"iris\">\n",
       "    <td class=\"iris-title iris-word-cell\">Dimension coordinates</td>\n",
       "    <td class=\"iris-title\"></td>\n",
       "    <td class=\"iris-title\"></td>\n",
       "    <td class=\"iris-title\"></td>\n",
       "    <td class=\"iris-title\"></td>\n",
       "</tr>\n",
       "<tr class=\"iris\">\n",
       "    <td class=\"iris-word-cell iris-subheading-cell\">\tforecast_period</td>\n",
       "    <td class=\"iris-inclusion-cell\">x</td>\n",
       "    <td class=\"iris-inclusion-cell\">-</td>\n",
       "    <td class=\"iris-inclusion-cell\">-</td>\n",
       "    <td class=\"iris-inclusion-cell\">-</td>\n",
       "</tr>\n",
       "<tr class=\"iris\">\n",
       "    <td class=\"iris-word-cell iris-subheading-cell\">\trealization</td>\n",
       "    <td class=\"iris-inclusion-cell\">-</td>\n",
       "    <td class=\"iris-inclusion-cell\">x</td>\n",
       "    <td class=\"iris-inclusion-cell\">-</td>\n",
       "    <td class=\"iris-inclusion-cell\">-</td>\n",
       "</tr>\n",
       "<tr class=\"iris\">\n",
       "    <td class=\"iris-word-cell iris-subheading-cell\">\tlatitude</td>\n",
       "    <td class=\"iris-inclusion-cell\">-</td>\n",
       "    <td class=\"iris-inclusion-cell\">-</td>\n",
       "    <td class=\"iris-inclusion-cell\">x</td>\n",
       "    <td class=\"iris-inclusion-cell\">-</td>\n",
       "</tr>\n",
       "<tr class=\"iris\">\n",
       "    <td class=\"iris-word-cell iris-subheading-cell\">\tlongitude</td>\n",
       "    <td class=\"iris-inclusion-cell\">-</td>\n",
       "    <td class=\"iris-inclusion-cell\">-</td>\n",
       "    <td class=\"iris-inclusion-cell\">-</td>\n",
       "    <td class=\"iris-inclusion-cell\">x</td>\n",
       "</tr>\n",
       "<tr class=\"iris\">\n",
       "    <td class=\"iris-title iris-word-cell\">Auxiliary coordinates</td>\n",
       "    <td class=\"iris-title\"></td>\n",
       "    <td class=\"iris-title\"></td>\n",
       "    <td class=\"iris-title\"></td>\n",
       "    <td class=\"iris-title\"></td>\n",
       "</tr>\n",
       "<tr class=\"iris\">\n",
       "    <td class=\"iris-word-cell iris-subheading-cell\">\tforecast_reference_time</td>\n",
       "    <td class=\"iris-inclusion-cell\">x</td>\n",
       "    <td class=\"iris-inclusion-cell\">x</td>\n",
       "    <td class=\"iris-inclusion-cell\">-</td>\n",
       "    <td class=\"iris-inclusion-cell\">-</td>\n",
       "</tr>\n",
       "<tr class=\"iris\">\n",
       "    <td class=\"iris-word-cell iris-subheading-cell\">\ttime</td>\n",
       "    <td class=\"iris-inclusion-cell\">x</td>\n",
       "    <td class=\"iris-inclusion-cell\">x</td>\n",
       "    <td class=\"iris-inclusion-cell\">-</td>\n",
       "    <td class=\"iris-inclusion-cell\">-</td>\n",
       "</tr>\n",
       "<tr class=\"iris\">\n",
       "    <td class=\"iris-title iris-word-cell\">Scalar coordinates</td>\n",
       "    <td class=\"iris-title\"></td>\n",
       "    <td class=\"iris-title\"></td>\n",
       "    <td class=\"iris-title\"></td>\n",
       "    <td class=\"iris-title\"></td>\n",
       "</tr>\n",
       "<tr class=\"iris\">\n",
       "    <td class=\"iris-word-cell iris-subheading-cell\">\tpressure</td>\n",
       "    <td class=\"iris-word-cell\" colspan=\"4\">850.0 hPa</td>\n",
       "</tr>\n",
       "<tr class=\"iris\">\n",
       "    <td class=\"iris-title iris-word-cell\">Attributes</td>\n",
       "    <td class=\"iris-title\"></td>\n",
       "    <td class=\"iris-title\"></td>\n",
       "    <td class=\"iris-title\"></td>\n",
       "    <td class=\"iris-title\"></td>\n",
       "</tr>\n",
       "<tr class=\"iris\">\n",
       "    <td class=\"iris-word-cell iris-subheading-cell\">\tConventions</td>\n",
       "    <td class=\"iris-word-cell\" colspan=\"4\">CF-1.7</td>\n",
       "</tr>\n",
       "<tr class=\"iris\">\n",
       "    <td class=\"iris-word-cell iris-subheading-cell\">\tSTASH</td>\n",
       "    <td class=\"iris-word-cell\" colspan=\"4\">m01s15i201</td>\n",
       "</tr>\n",
       "<tr class=\"iris\">\n",
       "    <td class=\"iris-word-cell iris-subheading-cell\">\tsource</td>\n",
       "    <td class=\"iris-word-cell\" colspan=\"4\">Data from Met Office Unified Model</td>\n",
       "</tr>\n",
       "<tr class=\"iris\">\n",
       "    <td class=\"iris-word-cell iris-subheading-cell\">\tum_version</td>\n",
       "    <td class=\"iris-word-cell\" colspan=\"4\">11.5</td>\n",
       "</tr>\n",
       "</table>\n",
       "        "
      ],
      "text/plain": [
       "<iris 'Cube' of x_wind / (m s-1) (forecast_period: 8; realization: 36; latitude: 214; longitude: 178)>"
      ]
     },
     "execution_count": 83,
     "metadata": {},
     "output_type": "execute_result"
    }
   ],
   "source": [
    "#u850_cube"
   ]
  },
  {
   "cell_type": "code",
   "execution_count": 455,
   "metadata": {},
   "outputs": [],
   "source": [
    "def enumerated_product(*args):\n",
    "    yield from zip(itertools.product(*(range(len(x)) for x in args)), itertools.product(*args))\n",
    "    \n",
    "\n",
    "def cold_surge_probabilities(u850_cube, v850_cube, speed_cube):\n",
    "    # Cold surge identification\n",
    "    chang_box = [107, 115, 5, 10]        # CP Chang's 2nd domain\n",
    "\n",
    "    # Hattori box for cross equatorial surges\n",
    "    hattori_box = [105, 115, -5, 5]\n",
    "\n",
    "    Chang_threshold = 9.0 # 10 # wind speed m/s\n",
    "    Hattori_threshold = -2.0 # m/s meridional wind\n",
    "    \n",
    "    u850_ba = u850_cube.intersection(latitude=(chang_box[2], chang_box[3]), longitude=(chang_box[0], chang_box[1]))\n",
    "    u850_ba = u850_ba.collapsed(('latitude', 'longitude'), iris.analysis.MEAN)\n",
    "\n",
    "    v850_ba = v850_cube.intersection(latitude=(chang_box[2], chang_box[3]), longitude=(chang_box[0], chang_box[1]))\n",
    "    v850_ba = v850_ba.collapsed(('latitude', 'longitude'), iris.analysis.MEAN)\n",
    "\n",
    "    speed_ba = speed_cube.intersection(latitude=(chang_box[2], chang_box[3]), longitude=(chang_box[0], chang_box[1]))\n",
    "    speed_ba = speed_ba.collapsed(('latitude', 'longitude'), iris.analysis.MEAN)\n",
    "    \n",
    "    # Hattori index\n",
    "    v850_hattori = v850_cube.intersection(latitude=(hattori_box[2], hattori_box[3]), longitude=(hattori_box[0], hattori_box[1]))\n",
    "    v850_hattori = v850_hattori.collapsed(('latitude', 'longitude'), iris.analysis.MEAN)\n",
    "\n",
    "    # extract the forecast periods and members from the data\n",
    "    # to create a metrics array\n",
    "    forecast_periods = u850_cube.coord('forecast_period').points\n",
    "    members = u850_cube.coord('realization').points\n",
    "    \n",
    "    # Check for cross-equatorial surges\n",
    "    # CP index\n",
    "    mask1 = u850_ba.data>0.\n",
    "    mask2 = v850_ba.data>0.\n",
    "    mask3 = speed_ba.data<=Chang_threshold\n",
    "    mask4 = v850_ba.data>Hattori_threshold\n",
    "\n",
    "    speed_ma = speed_ba.data.copy()\n",
    "    speed_ma = np.ma.array(speed_ma, mask=mask1)\n",
    "    speed_ma = np.ma.array(speed_ma, mask=mask2)\n",
    "    cs_metric = np.ma.array(speed_ma, mask=mask3)\n",
    "\n",
    "    #CES Hattori index\n",
    "    ces_metric = np.ma.array(v850_ba.data, mask=mask4)\n",
    "    ces_metric = np.ma.array(ces_metric, mask=cs_metric.mask)\n",
    "    \n",
    "    # return the probabilities as fraction\n",
    "    return cs_metric.count(axis=1)/float(len(members)), ces_metric.count(axis=1)/float(len(members))"
   ]
  },
  {
   "cell_type": "code",
   "execution_count": 458,
   "metadata": {},
   "outputs": [
    {
     "name": "stderr",
     "output_type": "stream",
     "text": [
      "/opt/scitools/environments/default/2020_10_12/lib/python3.6/site-packages/iris/cube.py:3218: UserWarning: Collapsing spatial coordinate 'latitude' without weighting\n",
      "  warnings.warn(msg.format(coord.name()))\n",
      "/opt/scitools/environments/default/2020_10_12/lib/python3.6/site-packages/iris/coords.py:1410: UserWarning: Collapsing a non-contiguous coordinate. Metadata may not be fully descriptive for 'latitude'.\n",
      "  warnings.warn(msg.format(self.name()))\n",
      "/opt/scitools/environments/default/2020_10_12/lib/python3.6/site-packages/iris/coords.py:1410: UserWarning: Collapsing a non-contiguous coordinate. Metadata may not be fully descriptive for 'longitude'.\n",
      "  warnings.warn(msg.format(self.name()))\n",
      "/opt/scitools/environments/default/2020_10_12/lib/python3.6/site-packages/iris/cube.py:3218: UserWarning: Collapsing spatial coordinate 'latitude' without weighting\n",
      "  warnings.warn(msg.format(coord.name()))\n",
      "/opt/scitools/environments/default/2020_10_12/lib/python3.6/site-packages/iris/coords.py:1410: UserWarning: Collapsing a non-contiguous coordinate. Metadata may not be fully descriptive for 'latitude'.\n",
      "  warnings.warn(msg.format(self.name()))\n",
      "/opt/scitools/environments/default/2020_10_12/lib/python3.6/site-packages/iris/coords.py:1410: UserWarning: Collapsing a non-contiguous coordinate. Metadata may not be fully descriptive for 'longitude'.\n",
      "  warnings.warn(msg.format(self.name()))\n",
      "/opt/scitools/environments/default/2020_10_12/lib/python3.6/site-packages/iris/cube.py:3218: UserWarning: Collapsing spatial coordinate 'latitude' without weighting\n",
      "  warnings.warn(msg.format(coord.name()))\n",
      "/opt/scitools/environments/default/2020_10_12/lib/python3.6/site-packages/iris/coords.py:1410: UserWarning: Collapsing a non-contiguous coordinate. Metadata may not be fully descriptive for 'latitude'.\n",
      "  warnings.warn(msg.format(self.name()))\n",
      "/opt/scitools/environments/default/2020_10_12/lib/python3.6/site-packages/iris/coords.py:1410: UserWarning: Collapsing a non-contiguous coordinate. Metadata may not be fully descriptive for 'longitude'.\n",
      "  warnings.warn(msg.format(self.name()))\n",
      "/opt/scitools/environments/default/2020_10_12/lib/python3.6/site-packages/iris/cube.py:3218: UserWarning: Collapsing spatial coordinate 'latitude' without weighting\n",
      "  warnings.warn(msg.format(coord.name()))\n",
      "/opt/scitools/environments/default/2020_10_12/lib/python3.6/site-packages/iris/coords.py:1410: UserWarning: Collapsing a non-contiguous coordinate. Metadata may not be fully descriptive for 'latitude'.\n",
      "  warnings.warn(msg.format(self.name()))\n",
      "/opt/scitools/environments/default/2020_10_12/lib/python3.6/site-packages/iris/coords.py:1410: UserWarning: Collapsing a non-contiguous coordinate. Metadata may not be fully descriptive for 'longitude'.\n",
      "  warnings.warn(msg.format(self.name()))\n"
     ]
    }
   ],
   "source": [
    "cs_prob, ces_prob = cold_surge_probabilities(u850_cube, v850_cube, speed_cube)"
   ]
  },
  {
   "cell_type": "code",
   "execution_count": 468,
   "metadata": {},
   "outputs": [
    {
     "data": {
      "text/plain": [
       "[<matplotlib.lines.Line2D at 0x7fdfd69fa048>]"
      ]
     },
     "execution_count": 468,
     "metadata": {},
     "output_type": "execute_result"
    }
   ],
   "source": [
    "plt.plot(cs_prob*100.)\n",
    "plt.plot(ces_prob*100.)"
   ]
  },
  {
   "cell_type": "code",
   "execution_count": 382,
   "metadata": {},
   "outputs": [
    {
     "name": "stderr",
     "output_type": "stream",
     "text": [
      "/opt/scitools/environments/default/2020_10_12/lib/python3.6/site-packages/iris/cube.py:3218: UserWarning: Collapsing spatial coordinate 'latitude' without weighting\n",
      "  warnings.warn(msg.format(coord.name()))\n",
      "/opt/scitools/environments/default/2020_10_12/lib/python3.6/site-packages/iris/coords.py:1410: UserWarning: Collapsing a non-contiguous coordinate. Metadata may not be fully descriptive for 'latitude'.\n",
      "  warnings.warn(msg.format(self.name()))\n",
      "/opt/scitools/environments/default/2020_10_12/lib/python3.6/site-packages/iris/coords.py:1410: UserWarning: Collapsing a non-contiguous coordinate. Metadata may not be fully descriptive for 'longitude'.\n",
      "  warnings.warn(msg.format(self.name()))\n",
      "/opt/scitools/environments/default/2020_10_12/lib/python3.6/site-packages/iris/cube.py:3218: UserWarning: Collapsing spatial coordinate 'latitude' without weighting\n",
      "  warnings.warn(msg.format(coord.name()))\n",
      "/opt/scitools/environments/default/2020_10_12/lib/python3.6/site-packages/iris/coords.py:1410: UserWarning: Collapsing a non-contiguous coordinate. Metadata may not be fully descriptive for 'latitude'.\n",
      "  warnings.warn(msg.format(self.name()))\n",
      "/opt/scitools/environments/default/2020_10_12/lib/python3.6/site-packages/iris/coords.py:1410: UserWarning: Collapsing a non-contiguous coordinate. Metadata may not be fully descriptive for 'longitude'.\n",
      "  warnings.warn(msg.format(self.name()))\n",
      "/opt/scitools/environments/default/2020_10_12/lib/python3.6/site-packages/iris/cube.py:3218: UserWarning: Collapsing spatial coordinate 'latitude' without weighting\n",
      "  warnings.warn(msg.format(coord.name()))\n",
      "/opt/scitools/environments/default/2020_10_12/lib/python3.6/site-packages/iris/coords.py:1410: UserWarning: Collapsing a non-contiguous coordinate. Metadata may not be fully descriptive for 'latitude'.\n",
      "  warnings.warn(msg.format(self.name()))\n",
      "/opt/scitools/environments/default/2020_10_12/lib/python3.6/site-packages/iris/coords.py:1410: UserWarning: Collapsing a non-contiguous coordinate. Metadata may not be fully descriptive for 'longitude'.\n",
      "  warnings.warn(msg.format(self.name()))\n",
      "/opt/scitools/environments/default/2020_10_12/lib/python3.6/site-packages/iris/cube.py:3218: UserWarning: Collapsing spatial coordinate 'latitude' without weighting\n",
      "  warnings.warn(msg.format(coord.name()))\n",
      "/opt/scitools/environments/default/2020_10_12/lib/python3.6/site-packages/iris/coords.py:1410: UserWarning: Collapsing a non-contiguous coordinate. Metadata may not be fully descriptive for 'latitude'.\n",
      "  warnings.warn(msg.format(self.name()))\n",
      "/opt/scitools/environments/default/2020_10_12/lib/python3.6/site-packages/iris/coords.py:1410: UserWarning: Collapsing a non-contiguous coordinate. Metadata may not be fully descriptive for 'longitude'.\n",
      "  warnings.warn(msg.format(self.name()))\n"
     ]
    }
   ],
   "source": [
    "u850_ba = u850_cube.intersection(latitude=(chang_box[2], chang_box[3]), longitude=(chang_box[0], chang_box[1]))\n",
    "u850_ba = u850_ba.collapsed(('latitude', 'longitude'), iris.analysis.MEAN)\n",
    "\n",
    "v850_ba = v850_cube.intersection(latitude=(chang_box[2], chang_box[3]), longitude=(chang_box[0], chang_box[1]))\n",
    "v850_ba = v850_ba.collapsed(('latitude', 'longitude'), iris.analysis.MEAN)\n",
    "\n",
    "speed_ba = speed_cube.intersection(latitude=(chang_box[2], chang_box[3]), longitude=(chang_box[0], chang_box[1]))\n",
    "speed_ba = speed_ba.collapsed(('latitude', 'longitude'), iris.analysis.MEAN)\n",
    "\n",
    "# Hattori index\n",
    "v850_hattori = v850_cube.intersection(latitude=(hattori_box[2], hattori_box[3]), longitude=(hattori_box[0], hattori_box[1]))\n",
    "v850_hattori = v850_hattori.collapsed(('latitude', 'longitude'), iris.analysis.MEAN)"
   ]
  },
  {
   "cell_type": "code",
   "execution_count": 88,
   "metadata": {},
   "outputs": [
    {
     "data": {
      "text/plain": [
       "<cartopy.mpl.feature_artist.FeatureArtist at 0x7fa97acd7278>"
      ]
     },
     "execution_count": 88,
     "metadata": {},
     "output_type": "execute_result"
    }
   ],
   "source": [
    "Chang_threshold = 9.0 # 10 # wind speed m/s\n",
    "Hattori_threshold = -2.0 # m/s meridional wind\n",
    "\n",
    "mask1 = u850_ens_mean.data>0.\n",
    "mask2 = v850_ens_mean.data>0.\n",
    "mask3 = speed_ens_mean.data<=Chang_threshold\n",
    "mask4 = v850_ens_mean.data>Hattori_threshold\n",
    "\n",
    "#np.ma.array(speed_ba.data, mask=)\n",
    "speed_ma = speed_ens_mean.data.copy()\n",
    "\n",
    "speed_ma = np.ma.array(speed_ma, mask=mask1)\n",
    "speed_ma = np.ma.array(speed_ma, mask=mask2)\n",
    "\n",
    "cs_metric = speed_ens_mean.copy()\n",
    "cs_metric.data = np.ma.array(speed_ma, mask=mask3)\n",
    "\n",
    "plt.subplot(111)\n",
    "qplt.pcolormesh(cs_metric[0])\n",
    "plt.gca().coastlines()"
   ]
  },
  {
   "cell_type": "code",
   "execution_count": 92,
   "metadata": {},
   "outputs": [
    {
     "data": {
      "text/plain": [
       "<cartopy.mpl.feature_artist.FeatureArtist at 0x7fa97a92e4a8>"
      ]
     },
     "execution_count": 92,
     "metadata": {},
     "output_type": "execute_result"
    }
   ],
   "source": [
    "#CES\n",
    "speed_ces = speed_ens_mean.data.copy()\n",
    "speed_ces = np.ma.array(speed_ces, mask=mask1)\n",
    "speed_ces = np.ma.array(speed_ces, mask=mask2)\n",
    "#speed_ces = np.ma.array(speed_ces, mask=mask3)\n",
    "speed_ces = np.ma.array(speed_ces, mask=mask4)\n",
    "\n",
    "ces_metric = speed_ens_mean.copy()\n",
    "ces_metric.data = np.ma.array(speed_ces, mask=mask4)\n",
    "#ces_metric.data = np.ma.array(ces_metric.data, mask=cs_metric.data.mask)\n",
    "\n",
    "plt.subplot(111)\n",
    "qplt.pcolormesh(ces_metric[2])\n",
    "plt.gca().coastlines()\n",
    "#plt.colorbar()"
   ]
  },
  {
   "cell_type": "code",
   "execution_count": 51,
   "metadata": {},
   "outputs": [
    {
     "data": {
      "text/plain": [
       "(8, 214, 178)"
      ]
     },
     "execution_count": 51,
     "metadata": {},
     "output_type": "execute_result"
    }
   ],
   "source": [
    "speed_ma.shape"
   ]
  },
  {
   "cell_type": "code",
   "execution_count": 454,
   "metadata": {},
   "outputs": [
    {
     "data": {
      "text/plain": [
       "[<matplotlib.lines.Line2D at 0x7fdfdcb97358>]"
      ]
     },
     "execution_count": 454,
     "metadata": {},
     "output_type": "execute_result"
    }
   ],
   "source": [
    "plt.plot(cs_metric.count(axis=1)/36.)\n",
    "plt.plot(ces_metric.count(axis=1)/36.)"
   ]
  },
  {
   "cell_type": "code",
   "execution_count": 21,
   "metadata": {},
   "outputs": [],
   "source": [
    "def plot_data(ucube, vcube, precip, plot):\n",
    "\n",
    "    lons = ucube.coord('longitude').points\n",
    "    lats = ucube.coord('latitude').points\n",
    "\n",
    "    # flip data around dateline\n",
    "    # lons = np.array(lons)\n",
    "    # ind = np.where(lons <= 180.)[0][-1]\n",
    "    # print ind, lons[ind]\n",
    "    # cube1 = olr_cube.copy()\n",
    "    # cube1.data[:, :] = 0.\n",
    "    # cube1.data[:, :ind] = olr_cube.data[:, ind:]\n",
    "    # cube1.data[:, ind:] = olr_cube.data[:, :ind]\n",
    "\n",
    "    # lons[np.where(lons > 180.)] = lons[np.where(lons > 180.)] - 360.\n",
    "    # cube1.coord('longitude').points = np.sort(lons)\n",
    "    # Linear\n",
    "    color_mapper = LinearColorMapper(palette=GnBu9, low=0, high=50)\n",
    "    # Log mapper\n",
    "    #color_mapper = LogColorMapper(palette=GnBu9, low=10, high=300)\n",
    "\n",
    "    # coastlines\n",
    "    #with open(os.path.join(os.path.dirname(__file__), 'data/countries.geo.json'), 'r') as f:\n",
    "    with open('../bokeh_display/data/countries.geo.json', 'r') as f:\n",
    "        countries = GeoJSONDataSource(geojson=f.read())\n",
    "\n",
    "    plot.image(image=[precip.data], x=70, y=-20, dw=80, dh=50, color_mapper=color_mapper, alpha=0.5)\n",
    "    plot.patches(\"xs\", \"ys\", color=None, line_color=\"black\", source=countries)\n",
    "\n",
    "    # Vectors\n",
    "    x0, y0, x1, y1, xR, yR, xL, yL, length = winds.arrows(lons, lats, ucube.data, vcube.data,\n",
    "                                                          density=5, maxspeed=5, arrowLength=2, arrowHeadAngle=10)\n",
    "\n",
    "    #cm = np.array([\"#C7E9B4\", \"#7FCDBB\", \"#41B6C4\", \"#1D91C0\", \"#225EA8\", \"#0C2C84\"])\n",
    "    cm = np.array(Magma6)\n",
    "    ix = ((length - length.min()) / (length.max() - length.min()) * 5).astype('int')\n",
    "\n",
    "    colors = cm[ix]\n",
    "\n",
    "    #colors = 'black'\n",
    "    plot.segment(x0, y0, x1, y1, color=colors, line_width=1, alpha=0.5)\n",
    "    plot.segment(x1, y1, xR, yR, color=colors, line_width=1, alpha=0.5)\n",
    "    plot.segment(x1, y1, xL, yL, color=colors, line_width=1, alpha=0.5)\n",
    "\n",
    "    plot.background_fill_color = \"white\"\n",
    "    plot.x_range = Range1d(start=80, end=150)\n",
    "    plot.y_range = Range1d(start=-20, end=30)\n",
    "\n",
    "    title = 'Winds 850, precip Forecast reference time: %s Forecast period: %s H Valid on: %s'\\\n",
    "            %(str(ucube.coord('forecast_reference_time'))[10:29],\n",
    "              str(ucube.coord('forecast_period').points[0]),\n",
    "              str(ucube.coord('time'))[10:20])\n",
    "    plot.title.text = title\n",
    "    plot.title.text_font_size = \"17px\"\n",
    "\n",
    "    color_bar = ColorBar(color_mapper=color_mapper, label_standoff=12,\n",
    "                         border_line_color=None, location=(0, 0),\n",
    "                         orientation='horizontal')\n",
    "    return plot, color_bar"
   ]
  },
  {
   "cell_type": "code",
   "execution_count": 29,
   "metadata": {},
   "outputs": [],
   "source": [
    "from bokeh.layouts import row, column, widgetbox\n",
    "from bokeh.plotting import figure, show, save\n",
    "from bokeh.io import curdoc, output_file, show\n",
    "from bokeh.models import ColumnDataSource, HoverTool, Select\n",
    "from bokeh.models import  Range1d, LinearColorMapper, ColorBar, LogColorMapper\n",
    "from bokeh.models import GeoJSONDataSource\n",
    "from bokeh.palettes import GnBu9, Magma6\n",
    "import bokeh_winds as winds"
   ]
  },
  {
   "cell_type": "code",
   "execution_count": 30,
   "metadata": {},
   "outputs": [],
   "source": [
    "\n",
    "plot = figure(plot_height=800, plot_width=1100, title='',\n",
    "                           tools=[\"pan, reset, save, box_zoom, wheel_zoom, hover\"],\n",
    "                          x_axis_label='Longitude', y_axis_label='Latitude')"
   ]
  },
  {
   "cell_type": "code",
   "execution_count": 31,
   "metadata": {},
   "outputs": [],
   "source": [
    "plot, color_bar = plot_data(u850_ens_mean[0], v850_ens_mean[0], precip_ens_mean[0], plot)\n",
    "show(plot)"
   ]
  },
  {
   "cell_type": "code",
   "execution_count": 296,
   "metadata": {},
   "outputs": [
    {
     "data": {
      "text/plain": [
       "[<matplotlib.lines.Line2D at 0x7fdff49840b8>]"
      ]
     },
     "execution_count": 296,
     "metadata": {},
     "output_type": "execute_result"
    }
   ],
   "source": []
  },
  {
   "cell_type": "code",
   "execution_count": null,
   "metadata": {},
   "outputs": [],
   "source": []
  }
 ],
 "metadata": {
  "kernelspec": {
   "display_name": "Python 3",
   "language": "python",
   "name": "python3"
  },
  "language_info": {
   "codemirror_mode": {
    "name": "ipython",
    "version": 3
   },
   "file_extension": ".py",
   "mimetype": "text/x-python",
   "name": "python",
   "nbconvert_exporter": "python",
   "pygments_lexer": "ipython3",
   "version": "3.6.10"
  }
 },
 "nbformat": 4,
 "nbformat_minor": 4
}
