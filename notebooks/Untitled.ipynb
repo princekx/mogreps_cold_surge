{
 "cells": [
  {
   "cell_type": "code",
   "execution_count": 1,
   "metadata": {},
   "outputs": [],
   "source": [
    "import glob\n",
    "import os\n",
    "import numpy as np"
   ]
  },
  {
   "cell_type": "code",
   "execution_count": 2,
   "metadata": {},
   "outputs": [],
   "source": [
    "fig_dir = '/project/MJO_GCSS/cold_surge_monitoring/mogreps/plot_ens'"
   ]
  },
  {
   "cell_type": "code",
   "execution_count": 3,
   "metadata": {},
   "outputs": [],
   "source": [
    "dum_files = glob.glob(os.path.join(fig_dir, 'Cold_surge_ProbMaps_*.png'))\n",
    "#dum_files"
   ]
  },
  {
   "cell_type": "code",
   "execution_count": 9,
   "metadata": {},
   "outputs": [
    {
     "data": {
      "text/plain": [
       "[20210907, 20210906, 20210905, 20210904, 20210903, 20210902, 20210810]"
      ]
     },
     "execution_count": 9,
     "metadata": {},
     "output_type": "execute_result"
    }
   ],
   "source": [
    "fcast_date = list(set([int(file.split('.')[0].split('_')[-5]) for file in dum_files]))\n",
    "fcast_hour = list(set([file.split('.')[0].split('_')[-4] for file in dum_files]))\n",
    "fcast_lead = np.unique([int(file.split('.')[0].split('_')[-3][1:-1]) for file in dum_files])\n",
    "pr_threshold = list(set([file.split('.')[0].split('_')[-2][2:] for file in dum_files]))\n",
    "sp_threshold = list(set([file.split('.')[0].split('_')[-1][2:] for file in dum_files]))\n",
    "fcast_date.sort(reverse=True)\n",
    "fcast_date"
   ]
  },
  {
   "cell_type": "code",
   "execution_count": 81,
   "metadata": {},
   "outputs": [],
   "source": [
    "pr_threshold = list(np.unique([int(file.split('.')[0].split('_')[-2][2:]) for file in dum_files]))\n",
    "sp_threshold = list(np.unique([int(file.split('.')[0].split('_')[-1][2:]) for file in dum_files]))"
   ]
  },
  {
   "cell_type": "code",
   "execution_count": 83,
   "metadata": {},
   "outputs": [
    {
     "data": {
      "text/plain": [
       "(['12Z'],\n",
       " [20210810, 20210101],\n",
       " array([  0,  24,  48,  72,  96, 120, 144, 168]),\n",
       " [10, 20, 30],\n",
       " [5, 10, 15])"
      ]
     },
     "execution_count": 83,
     "metadata": {},
     "output_type": "execute_result"
    }
   ],
   "source": [
    "fcast_hour, fcast_date, fcast_lead, pr_threshold, sp_threshold"
   ]
  },
  {
   "cell_type": "code",
   "execution_count": null,
   "metadata": {},
   "outputs": [],
   "source": []
  }
 ],
 "metadata": {
  "kernelspec": {
   "display_name": "Python 3",
   "language": "python",
   "name": "python3"
  },
  "language_info": {
   "codemirror_mode": {
    "name": "ipython",
    "version": 3
   },
   "file_extension": ".py",
   "mimetype": "text/x-python",
   "name": "python",
   "nbconvert_exporter": "python",
   "pygments_lexer": "ipython3",
   "version": "3.6.10"
  }
 },
 "nbformat": 4,
 "nbformat_minor": 4
}
