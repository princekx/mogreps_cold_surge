{
 "cells": [
  {
   "cell_type": "code",
   "execution_count": 16,
   "metadata": {},
   "outputs": [],
   "source": [
    "import datetime\n",
    "import glob\n",
    "import os\n",
    "import sys\n",
    "import numpy as np\n",
    "#import data_paths"
   ]
  },
  {
   "cell_type": "code",
   "execution_count": 46,
   "metadata": {},
   "outputs": [],
   "source": [
    "def get_figure_meta_data(fig_dir):\n",
    "    #dum_files = glob.glob(os.path.join(fig_dir, 'Cold_surge_ProbMaps_*.png'))\n",
    "    pr_dum_files = glob.glob(os.path.join(fig_dir, 'Bokeh_Cold_surge_ProbMaps_*Pr*.html'))\n",
    "    print(pr_dum_files[0])\n",
    "    sp_dum_files = glob.glob(os.path.join(fig_dir, 'Bokeh_Cold_surge_ProbMaps_*Sp*.html'))\n",
    "    fcast_dates = list(set([(file.split('.')[0].split('_')[-4]) for file in pr_dum_files]))\n",
    "    fcast_dates.sort(reverse=True)\n",
    "    fcast_hours = list(set([file.split('.')[0].split('_')[-3] for file in pr_dum_files]))\n",
    "    fcast_leads = [str(l) for l in np.unique([int(file.split('.')[0].split('_')[-3][1:-1]) for file in pr_dum_files])]\n",
    "    pr_thresholds = [str(p) for p in list(np.unique([int(file.split('.')[0].split('_')[-1][2:]) for file in pr_dum_files]))]\n",
    "    sp_thresholds = [str(p) for p in list(np.unique([int(file.split('.')[0].split('_')[-1][2:]) for file in sp_dum_files]))]\n",
    "    return fcast_dates, fcast_hours, fcast_leads, pr_thresholds, sp_thresholds"
   ]
  },
  {
   "cell_type": "code",
   "execution_count": 47,
   "metadata": {},
   "outputs": [
    {
     "name": "stdout",
     "output_type": "stream",
     "text": [
      "/project/MJO_GCSS/cold_surge_monitoring/mogreps/plot_ens/Bokeh_Cold_surge_ProbMaps_20210930_12Z_T48h_Pr20.html\n"
     ]
    },
    {
     "data": {
      "text/plain": [
       "(['20210930', '20210925'], ['12Z'], ['2'], ['10', '20'], ['10', '15'])"
      ]
     },
     "execution_count": 47,
     "metadata": {},
     "output_type": "execute_result"
    }
   ],
   "source": [
    "fig_dir = '/project/MJO_GCSS/cold_surge_monitoring/mogreps/plot_ens/'\n",
    "get_figure_meta_data(fig_dir)"
   ]
  },
  {
   "cell_type": "code",
   "execution_count": 48,
   "metadata": {},
   "outputs": [
    {
     "data": {
      "text/plain": [
       "['JSONDecodeError',\n",
       " 'JSONDecoder',\n",
       " 'JSONEncoder',\n",
       " '__all__',\n",
       " '__author__',\n",
       " '__builtins__',\n",
       " '__cached__',\n",
       " '__doc__',\n",
       " '__file__',\n",
       " '__loader__',\n",
       " '__name__',\n",
       " '__package__',\n",
       " '__path__',\n",
       " '__spec__',\n",
       " '__version__',\n",
       " '_default_decoder',\n",
       " '_default_encoder',\n",
       " 'codecs',\n",
       " 'decoder',\n",
       " 'detect_encoding',\n",
       " 'dump',\n",
       " 'dumps',\n",
       " 'encoder',\n",
       " 'load',\n",
       " 'loads',\n",
       " 'scanner']"
      ]
     },
     "execution_count": 48,
     "metadata": {},
     "output_type": "execute_result"
    }
   ],
   "source": [
    "dir(json)"
   ]
  },
  {
   "cell_type": "code",
   "execution_count": null,
   "metadata": {},
   "outputs": [],
   "source": []
  }
 ],
 "metadata": {
  "kernelspec": {
   "display_name": "Python 3",
   "language": "python",
   "name": "python3"
  },
  "language_info": {
   "codemirror_mode": {
    "name": "ipython",
    "version": 3
   },
   "file_extension": ".py",
   "mimetype": "text/x-python",
   "name": "python",
   "nbconvert_exporter": "python",
   "pygments_lexer": "ipython3",
   "version": "3.6.10"
  }
 },
 "nbformat": 4,
 "nbformat_minor": 4
}
